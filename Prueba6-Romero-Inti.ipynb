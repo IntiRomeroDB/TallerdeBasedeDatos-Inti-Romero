{
 "cells": [
  {
   "cell_type": "markdown",
   "metadata": {},
   "source": [
    "<b>Prueba #6: Gestión de datos con ElasticSearch y visualización con Matplotlib"
   ]
  },
  {
   "cell_type": "markdown",
   "metadata": {},
   "source": [
    "<b>1.1 En un histograma o en un line plot, visualizar el número de tweets conteniendo la palabra “goal”, cada minuto.\n"
   ]
  },
  {
   "cell_type": "code",
   "execution_count": null,
   "metadata": {},
   "outputs": [],
   "source": [
    "#CREAR UN INDEX PARA ALMACENAR LOS DATOS\n",
    "from elasticsearch import Elasticsearch\n",
    "from pprint import pprint\n",
    "\n",
    "es = Elasticsearch()\n",
    "\n",
    "if not(es.indices.exists(index=\"tp6\")):\n",
    "    res = es.indices.create(index=\"tp6\")  \n",
    "    pprint(res)"
   ]
  },
  {
   "cell_type": "code",
   "execution_count": null,
   "metadata": {},
   "outputs": [],
   "source": [
    "#LISTAR LOS ARCHIVOS DEL DATASET\n",
    "import json\n",
    "import os\n",
    "files = os.listdir(\"dataset_tp6\")\n",
    "pprint(len(files))"
   ]
  },
  {
   "cell_type": "code",
   "execution_count": null,
   "metadata": {},
   "outputs": [],
   "source": [
    "from elasticsearch import helpers\n",
    "\n",
    "#CARGAR LOS DATOS EN ELASTICSEARCH\n",
    "tweets=[]\n",
    "\n",
    "for filename in files:\n",
    "    with open('dataset_tp6/'+filename) as f:\n",
    "        try:\n",
    "            #pprint(filename+':')  timestamp, text, username y location\n",
    "            tweet = json.load(f)\n",
    "            timestamp=int(tweet[\"timestamp_ms\"])\n",
    "            #pprint(tweet)\n",
    "            simple_tweet = {\n",
    "                \"timestamp\":timestamp, \\\n",
    "               \"text\": tweet['text'], \\\n",
    "               \"username\": tweet['user']['name'], \\\n",
    "               \"location\": tweet['user']['location']}\n",
    "        except KeyError:\n",
    "            error=\"error\"\n",
    "            \n",
    "    tweets.append(simple_tweet)#remove comment\n",
    "    \n",
    "    #CARGAMOS LOS DATOS EN ELASTICSEARCH CON CONSULTAS 'BULK' PARA OPTIMIZAR EL PROCESO\n",
    "    if (len(tweets)>=1000):\n",
    "        i=0\n",
    "        docs_as_string=\"[\"\n",
    "        while i<1000:\n",
    "            if i!=0:\n",
    "                docs_as_string = docs_as_string + ','\n",
    "            docs_as_string = docs_as_string + '\\n' + json.dumps(tweets[i])\n",
    "            i=i+1\n",
    "        docs_as_string=docs_as_string+\"]\"\n",
    "        res = helpers.bulk(es, json.loads(docs_as_string),index=\"tp6\", doc_type=\"_doc\")\n",
    "        tweets=[]"
   ]
  },
  {
   "cell_type": "code",
   "execution_count": null,
   "metadata": {},
   "outputs": [],
   "source": [
    "#CONSULTA: ¿Cuántos tweets cada minuto?\n",
    "res = es.search(index=\"tp6\", body={\"aggs\" : { \"tweets_over_time\" : { \"date_histogram\" : { \"field\" : \"timestamp\",\n",
    "                                                                                          \"interval\" : \"1m\"\n",
    "                                                                                         },\n",
    "      \"aggs\" : {\n",
    "    \"texto_filtro\" : {\n",
    "      \"filters\" : {\n",
    "        \"filters\" : {\n",
    "          \"cantidad\" :   { \"match\" : { \"text\" : \"goal\"   }},\n",
    "        }\n",
    "      }\n",
    "    }\n",
    "  }\n",
    "                                                            }\n",
    "                                            }\n",
    "                                  }\n",
    "               )\n",
    "for data in res['aggregations']['tweets_over_time']['buckets']:\n",
    "    print(data['doc_count'])\n",
    "    #data['texto_filtro']['buckets']['cantidad']['doc_count']\n",
    "    "
   ]
  },
  {
   "cell_type": "code",
   "execution_count": null,
   "metadata": {},
   "outputs": [],
   "source": [
    "import pandas as pd"
   ]
  },
  {
   "cell_type": "code",
   "execution_count": null,
   "metadata": {},
   "outputs": [],
   "source": [
    "df_tweetsByMinutes2 = pd.Series([data['texto_filtro']['buckets']['cantidad']['doc_count']])\n",
    "i = 1\n",
    "for data in res['aggregations']['tweets_over_time']['buckets']:\n",
    "    print(data['texto_filtro']['buckets']['cantidad']['doc_count'])\n",
    "    df_tweetsByMinutes2[i] = data['texto_filtro']['buckets']['cantidad']['doc_count']\n",
    "    i = i + 1"
   ]
  },
  {
   "cell_type": "code",
   "execution_count": null,
   "metadata": {},
   "outputs": [],
   "source": [
    "df_tweetsByMinutes2[:10]"
   ]
  },
  {
   "cell_type": "code",
   "execution_count": null,
   "metadata": {},
   "outputs": [],
   "source": [
    "df_tweetsByMinutes = pd.DataFrame(res['aggregations']['tweets_over_time']['buckets'])\n",
    "df_tweetsByMinutes = df_tweetsByMinutes.rename(columns={'key': 'timestamp', 'doc_count': 'nb_tweets_old'})\n",
    "df_tweetsByMinutes[:10]"
   ]
  },
  {
   "cell_type": "code",
   "execution_count": null,
   "metadata": {},
   "outputs": [],
   "source": [
    "tweets_goal = df_tweetsByMinutes[['timestamp']].copy()\n",
    "\n",
    "tweets_goal.loc[:,'numeroTweets'] = df_tweetsByMinutes2\n",
    "tweets_goal[:10]\n"
   ]
  },
  {
   "cell_type": "code",
   "execution_count": null,
   "metadata": {},
   "outputs": [],
   "source": [
    "#df_tweetsByMinutes_filtered = df_tweetsByMinutes.drop(df_tweetsByMinutes[df_tweetsByMinutes.timestamp < 1527357600000 ].index)\n",
    "#df_tweetsByMinutes_filtered[:10]"
   ]
  },
  {
   "cell_type": "code",
   "execution_count": null,
   "metadata": {},
   "outputs": [],
   "source": [
    "import datetime\n",
    "\n",
    "def timestamp2date(x):\n",
    "    y = datetime.datetime.fromtimestamp(x/1000).strftime('%H:%M:%S')\n",
    "    return y\n",
    "\n",
    "tweets_goal['timestamp']=tweets_goal['timestamp'].apply(timestamp2date)\n",
    "tweets_goal[:10]"
   ]
  },
  {
   "cell_type": "code",
   "execution_count": null,
   "metadata": {},
   "outputs": [],
   "source": [
    "import matplotlib.pyplot as plt\n",
    "%matplotlib inline\n",
    "\n",
    "tweets_goal.plot(kind='bar',figsize=(40,10), fontsize=10, x='timestamp')\n",
    "plt.show()"
   ]
  },
  {
   "cell_type": "markdown",
   "metadata": {},
   "source": [
    "<b>1.2 En un histograma o en un line plot, visualizar el número de tweets conteniendo la palabra “goal”, cada 10 minutos.\n",
    "\n"
   ]
  },
  {
   "cell_type": "code",
   "execution_count": null,
   "metadata": {},
   "outputs": [],
   "source": [
    "#CONSULTA: ¿Cuántos tweets cada minuto?\n",
    "res2 = es.search(index=\"tp6\", body={\"aggs\" : { \"tweets_over_time\" : { \"date_histogram\" : { \"field\" : \"timestamp\",\n",
    "                                                                                          \"interval\" : \"10m\"\n",
    "                                                                                         },\n",
    "      \"aggs\" : {\n",
    "    \"texto_filtro\" : {\n",
    "      \"filters\" : {\n",
    "        \"filters\" : {\n",
    "          \"cantidad\" :   { \"match\" : { \"text\" : \"goal\"   }},\n",
    "        }\n",
    "      }\n",
    "    }\n",
    "  }\n",
    "                                                            }\n",
    "                                            }\n",
    "                                  }\n",
    "               )\n",
    "for data2 in res2['aggregations']['tweets_over_time']['buckets']:\n",
    "    print(data2['doc_count'])\n",
    "    #data['texto_filtro']['buckets']['cantidad']['doc_count']\n",
    "    "
   ]
  },
  {
   "cell_type": "code",
   "execution_count": null,
   "metadata": {},
   "outputs": [],
   "source": [
    "df_tweetsByMinutes3 = pd.Series([data2['texto_filtro']['buckets']['cantidad']['doc_count']])\n",
    "i = 1\n",
    "for data2 in res2['aggregations']['tweets_over_time']['buckets']:\n",
    "    print(data2['texto_filtro']['buckets']['cantidad']['doc_count'])\n",
    "    df_tweetsByMinutes3[i] = data2['texto_filtro']['buckets']['cantidad']['doc_count']\n",
    "    i = i + 1"
   ]
  },
  {
   "cell_type": "code",
   "execution_count": null,
   "metadata": {},
   "outputs": [],
   "source": [
    "df_tweetsByMinutes3[:10]"
   ]
  },
  {
   "cell_type": "code",
   "execution_count": null,
   "metadata": {},
   "outputs": [],
   "source": [
    "df_tweetsByMinutes4 = pd.DataFrame(res2['aggregations']['tweets_over_time']['buckets'])\n",
    "df_tweetsByMinutes4 = df_tweetsByMinutes4.rename(columns={'key': 'timestamp', 'doc_count': 'nb_tweets_old'})\n",
    "df_tweetsByMinutes4[:10]"
   ]
  },
  {
   "cell_type": "code",
   "execution_count": null,
   "metadata": {},
   "outputs": [],
   "source": [
    "tweets_goal2 = df_tweetsByMinutes4[['timestamp']].copy()\n",
    "\n",
    "tweets_goal2.loc[:,'numeroTweets'] = df_tweetsByMinutes3\n",
    "tweets_goal2[:10]\n",
    "\n"
   ]
  },
  {
   "cell_type": "code",
   "execution_count": null,
   "metadata": {},
   "outputs": [],
   "source": [
    "import datetime\n",
    "\n",
    "def timestamp2date(x):\n",
    "    y = datetime.datetime.fromtimestamp(x/1000).strftime('%H:%M:%S')\n",
    "    return y\n",
    "\n",
    "tweets_goal2['timestamp']=tweets_goal2['timestamp'].apply(timestamp2date)\n",
    "tweets_goal2[:10]"
   ]
  },
  {
   "cell_type": "code",
   "execution_count": null,
   "metadata": {},
   "outputs": [],
   "source": [
    "import matplotlib.pyplot as plt\n",
    "%matplotlib inline\n",
    "\n",
    "tweets_goal2.plot(kind='bar',figsize=(40,10), fontsize=10, x='timestamp')\n",
    "plt.show()"
   ]
  },
  {
   "cell_type": "markdown",
   "metadata": {},
   "source": [
    "<b>2. En un histograma o en un line plot, visualizar dos series de datos: \n",
    "el número de tweets que hablan de ‘liverpool’ por cada minuto,\n",
    "el número de tweets que hablan de ‘madrid’ por cada minuto.\n",
    "\n",
    "            ¿A qué minuto se habla más de Madrid?\n"
   ]
  },
  {
   "cell_type": "markdown",
   "metadata": {},
   "source": [
    "<b>2.1 Obteniendo tabla de liverpool."
   ]
  },
  {
   "cell_type": "code",
   "execution_count": null,
   "metadata": {},
   "outputs": [],
   "source": [
    "#CONSULTA: ¿Cuántos tweets cada minuto?\n",
    "resultado = es.search(index=\"tp6\", body={\"aggs\" : { \"tweets_over_time\" : { \"date_histogram\" : { \"field\" : \"timestamp\",\n",
    "                                                                                          \"interval\" : \"1m\"\n",
    "                                                                                         },\n",
    "      \"aggs\" : {\n",
    "    \"texto_filtro\" : {\n",
    "      \"filters\" : {\n",
    "        \"filters\" : {\n",
    "          \"cantidad\" :   { \"match\" : { \"text\" : \"liverpool\"   }},\n",
    "        }\n",
    "      }\n",
    "    }\n",
    "  }\n",
    "                                                            }\n",
    "                                            }\n",
    "                                  }\n",
    "               )\n",
    "for datos in resultado['aggregations']['tweets_over_time']['buckets']:\n",
    "    print(datos['doc_count'])   "
   ]
  },
  {
   "cell_type": "code",
   "execution_count": null,
   "metadata": {},
   "outputs": [],
   "source": [
    "tminuto = pd.Series([datos['texto_filtro']['buckets']['cantidad']['doc_count']])\n",
    "i = 1\n",
    "for datos in resultado['aggregations']['tweets_over_time']['buckets']:\n",
    "    print(datos['texto_filtro']['buckets']['cantidad']['doc_count'])\n",
    "    tminuto[i] = datos['texto_filtro']['buckets']['cantidad']['doc_count']\n",
    "    i = i + 1"
   ]
  },
  {
   "cell_type": "code",
   "execution_count": null,
   "metadata": {},
   "outputs": [],
   "source": [
    "tminuto[:10]"
   ]
  },
  {
   "cell_type": "code",
   "execution_count": null,
   "metadata": {},
   "outputs": [],
   "source": [
    "tminuto2 = pd.DataFrame(resultado['aggregations']['tweets_over_time']['buckets'])\n",
    "tminuto2 = tminuto2.rename(columns={'key': 'timestamp', 'doc_count': 'nb_tweets_old'})\n",
    "tminuto2[:10]"
   ]
  },
  {
   "cell_type": "code",
   "execution_count": null,
   "metadata": {},
   "outputs": [],
   "source": [
    "tweets_liverpool = tminuto2[['timestamp']].copy()\n",
    "tweets_liverpool.loc[:,'numeroTweets'] = tminuto\n",
    "tweets_liverpool[:10]"
   ]
  },
  {
   "cell_type": "code",
   "execution_count": null,
   "metadata": {},
   "outputs": [],
   "source": [
    "import datetime\n",
    "\n",
    "def timestamp2date(x):\n",
    "    y = datetime.datetime.fromtimestamp(x/1000).strftime('%H:%M:%S')\n",
    "    return y\n",
    "\n",
    "tweets_liverpool['timestamp']=tweets_liverpool['timestamp'].apply(timestamp2date)\n",
    "tweets_liverpool[:10]"
   ]
  },
  {
   "cell_type": "code",
   "execution_count": null,
   "metadata": {},
   "outputs": [],
   "source": [
    "import matplotlib.pyplot as plt\n",
    "%matplotlib inline\n",
    "\n",
    "tweets_liverpool.plot(kind='bar',figsize=(40,10), fontsize=10, x='timestamp')\n",
    "plt.show()"
   ]
  },
  {
   "cell_type": "markdown",
   "metadata": {},
   "source": [
    "<b>2.2 Obteniendo tabla de madrid."
   ]
  },
  {
   "cell_type": "code",
   "execution_count": null,
   "metadata": {},
   "outputs": [],
   "source": [
    "#CONSULTA: ¿Cuántos tweets cada minuto?\n",
    "resultado_m = es.search(index=\"tp6\", body={\"aggs\" : { \"tweets_over_time\" : { \"date_histogram\" : { \"field\" : \"timestamp\",\n",
    "                                                                                          \"interval\" : \"1m\"\n",
    "                                                                                         },\n",
    "      \"aggs\" : {\n",
    "    \"texto_filtro\" : {\n",
    "      \"filters\" : {\n",
    "        \"filters\" : {\n",
    "          \"cantidad\" :   { \"match\" : { \"text\" : \"madrid\"   }},\n",
    "        }\n",
    "      }\n",
    "    }\n",
    "  }\n",
    "                                                            }\n",
    "                                            }\n",
    "                                  }\n",
    "               )\n",
    "for datos_m in resultado_m['aggregations']['tweets_over_time']['buckets']:\n",
    "    print(datos_m['doc_count'])   "
   ]
  },
  {
   "cell_type": "code",
   "execution_count": null,
   "metadata": {},
   "outputs": [],
   "source": [
    "tminuto_m = pd.Series([datos_m['texto_filtro']['buckets']['cantidad']['doc_count']])\n",
    "i = 1\n",
    "for datos_m in resultado_m['aggregations']['tweets_over_time']['buckets']:\n",
    "    print(datos_m['texto_filtro']['buckets']['cantidad']['doc_count'])\n",
    "    tminuto_m[i] = datos_m['texto_filtro']['buckets']['cantidad']['doc_count']\n",
    "    i = i + 1"
   ]
  },
  {
   "cell_type": "code",
   "execution_count": null,
   "metadata": {},
   "outputs": [],
   "source": [
    "tminuto_m[:10]"
   ]
  },
  {
   "cell_type": "code",
   "execution_count": null,
   "metadata": {},
   "outputs": [],
   "source": [
    "tminuto2_m = pd.DataFrame(resultado_m['aggregations']['tweets_over_time']['buckets'])\n",
    "tminuto2_m = tminuto2_m.rename(columns={'key': 'timestamp', 'doc_count': 'nb_tweets_old'})\n",
    "tminuto2_m[:10]"
   ]
  },
  {
   "cell_type": "code",
   "execution_count": null,
   "metadata": {},
   "outputs": [],
   "source": [
    "tweets_madrid = tminuto2_m[['timestamp']].copy()\n",
    "tweets_madrid.loc[:,'numeroTweets'] = tminuto_m\n",
    "tweets_madrid[:10]"
   ]
  },
  {
   "cell_type": "code",
   "execution_count": null,
   "metadata": {},
   "outputs": [],
   "source": [
    "import datetime\n",
    "\n",
    "def timestamp2date(x):\n",
    "    y = datetime.datetime.fromtimestamp(x/1000).strftime('%H:%M:%S')\n",
    "    return y\n",
    "\n",
    "tweets_madrid['timestamp']=tweets_madrid['timestamp'].apply(timestamp2date)\n",
    "tweets_madrid"
   ]
  },
  {
   "cell_type": "code",
   "execution_count": null,
   "metadata": {},
   "outputs": [],
   "source": [
    "import matplotlib.pyplot as plt\n",
    "%matplotlib inline\n",
    "\n",
    "tweets_madrid.plot(kind='bar',figsize=(40,10), fontsize=10, x='timestamp')\n",
    "plt.show()"
   ]
  },
  {
   "cell_type": "markdown",
   "metadata": {},
   "source": [
    "<b>Gráficos de liverpool y madrid conbinados"
   ]
  },
  {
   "cell_type": "code",
   "execution_count": null,
   "metadata": {},
   "outputs": [],
   "source": [
    "tweets_final = tweets_liverpool[['timestamp','numeroTweets']].copy()\n",
    "tweets_final = tweets_final.rename(columns={'timestamp': 'hora', 'numeroTweets': 'liberpool'})\n",
    "#tweets_madrid = tweets_madrid.drop('timestamp', 1)\n",
    "tweets_final.loc[:,'numeroTweets'] = tweets_madrid\n",
    "tweets_final = tweets_final.rename(columns={'numeroTweets': 'madrid'})\n",
    "tweets_final[:10]"
   ]
  },
  {
   "cell_type": "code",
   "execution_count": null,
   "metadata": {},
   "outputs": [],
   "source": [
    "#Ahora podemos visualizar el número de medallas por cada tipo de medalla y cada país\n",
    "tweets_final.plot(kind='bar',figsize=(40,10), fontsize=20, x='hora', y=['liberpool','madrid'])\n",
    "plt.show()"
   ]
  },
  {
   "cell_type": "markdown",
   "metadata": {},
   "source": [
    "<b>¿a qué minuto se habla más de madrid?\n"
   ]
  },
  {
   "cell_type": "markdown",
   "metadata": {},
   "source": [
    "<b>RESPUESTA: AL MINUTO 16:40:00"
   ]
  },
  {
   "cell_type": "code",
   "execution_count": null,
   "metadata": {},
   "outputs": [],
   "source": []
  },
  {
   "cell_type": "code",
   "execution_count": null,
   "metadata": {},
   "outputs": [],
   "source": []
  },
  {
   "cell_type": "code",
   "execution_count": null,
   "metadata": {},
   "outputs": [],
   "source": []
  },
  {
   "cell_type": "code",
   "execution_count": null,
   "metadata": {},
   "outputs": [],
   "source": []
  }
 ],
 "metadata": {
  "kernelspec": {
   "display_name": "Python 3",
   "language": "python",
   "name": "python3"
  },
  "language_info": {
   "codemirror_mode": {
    "name": "ipython",
    "version": 3
   },
   "file_extension": ".py",
   "mimetype": "text/x-python",
   "name": "python",
   "nbconvert_exporter": "python",
   "pygments_lexer": "ipython3",
   "version": "3.6.4"
  }
 },
 "nbformat": 4,
 "nbformat_minor": 2
}
