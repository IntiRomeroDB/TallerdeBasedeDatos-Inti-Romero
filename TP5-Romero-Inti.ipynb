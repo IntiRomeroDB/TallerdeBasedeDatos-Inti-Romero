{
 "cells": [
  {
   "cell_type": "markdown",
   "metadata": {},
   "source": [
    "<h1><b>*TP5*: Consultas Elasticsearch y Visualización de datos: <br>\n",
    "1. <br>\n",
    "1.1 ¿Cuántos tweets tienen la palabra \"liverpool\"? <br>\n",
    "1.2 ¿Cómo se distribuye los tweets en el tiempo (ver en un histograma)<br>\n",
    "2. ¿De dónde vienen los tweets? (utilizar el campo 'location')<br>\n",
    "3. ¿Cuántos tweets tienen las palabras \"liverpool\" y \"goal\"? (ver en un histograma)<br>\n",
    "4. Graficar un Pie Chart comparando el número de tweets con: a) la palabra 'liverpool', b) la palabra 'madrid', c) la palabra 'madrid' y 'liverpool' d) ninguna de las palabras<br>\n",
    "5. ¿Cuáles son los emoticons más frecuentes? A partir de las visualizaciones disponibles en las librerias MatplotLib y/o Seaborn (seaborn.pydata.org), proponer una visualización para observar las emociones expresadas durante el partido<br>"
   ]
  },
  {
   "cell_type": "code",
   "execution_count": 1,
   "metadata": {},
   "outputs": [],
   "source": [
    "import pandas as pd"
   ]
  },
  {
   "cell_type": "markdown",
   "metadata": {},
   "source": [
    "<h1><b>1.1 ¿Cuántos tweets tienen la palabra \"liverpool\"? <br>\n",
    "\n"
   ]
  },
  {
   "cell_type": "code",
   "execution_count": 2,
   "metadata": {},
   "outputs": [],
   "source": [
    "#CREAR UN INDEX PARA ALMACENAR LOS DATOS\n",
    "from elasticsearch import Elasticsearch\n",
    "from pprint import pprint\n",
    "\n",
    "es = Elasticsearch()\n",
    "\n",
    "if not(es.indices.exists(index=\"tp5-romero\")):\n",
    "    res = es.indices.create(index=\"tp5-romero\")  \n",
    "    pprint(res)"
   ]
  },
  {
   "cell_type": "code",
   "execution_count": 3,
   "metadata": {},
   "outputs": [
    {
     "name": "stdout",
     "output_type": "stream",
     "text": [
      "354585\n"
     ]
    }
   ],
   "source": [
    "#LISTAR LOS ARCHIVOS DEL DATASET\n",
    "import json\n",
    "import os\n",
    "files = os.listdir(\"dataset_tp5_romero\")\n",
    "pprint(len(files))"
   ]
  },
  {
   "cell_type": "code",
   "execution_count": null,
   "metadata": {},
   "outputs": [],
   "source": [
    "from elasticsearch import helpers\n",
    "\n",
    "#CARGAR LOS DATOS EN ELASTICSEARCH\n",
    "tweets=[]\n",
    "\n",
    "for filename in files:\n",
    "    with open('dataset_tp5_romero/'+filename) as f:\n",
    "        try:\n",
    "            #pprint(filename+':')\n",
    "            tweet = json.load(f)\n",
    "            timestamp=int(tweet[\"timestamp_ms\"])\n",
    "            #pprint(tweet)\n",
    "            simple_tweet = {\n",
    "                \"timestamp\":timestamp, \\\n",
    "                \"date\":tweet[\"created_at\"], \\\n",
    "               \"text\": tweet['text'], \\\n",
    "               \"username\": tweet['user']['name'], \\\n",
    "               \"location\": tweet['user']['location']}\n",
    "        except KeyError:\n",
    "            error=\"error\"\n",
    "            \n",
    "    tweets.append(simple_tweet)#remove comment\n",
    "    \n",
    "    #CARGAMOS LOS DATOS EN ELASTICSEARCH CON CONSULTAS 'BULK' PARA OPTIMIZAR EL PROCESO\n",
    "    if (len(tweets)>=1000):\n",
    "        i=0\n",
    "        docs_as_string=\"[\"\n",
    "        while i<1000:\n",
    "            if i!=0:\n",
    "                docs_as_string = docs_as_string + ','\n",
    "            docs_as_string = docs_as_string + '\\n' + json.dumps(tweets[i])\n",
    "            i=i+1\n",
    "        docs_as_string=docs_as_string+\"]\"\n",
    "        res = helpers.bulk(es, json.loads(docs_as_string),index=\"tp5-romero\", doc_type=\"_doc\")\n",
    "        tweets=[]"
   ]
  },
  {
   "cell_type": "code",
   "execution_count": 119,
   "metadata": {},
   "outputs": [
    {
     "name": "stdout",
     "output_type": "stream",
     "text": [
      "Got 44034 Hits:\n"
     ]
    }
   ],
   "source": [
    "es = Elasticsearch()\n",
    "\n",
    "res = es.search(index=\"tp5-romero\", body={\"query\" : { \"match\" : { \"text\" : \"liverpool\" }\n",
    "      }})\n",
    "print(\"Got %d Hits:\" % res['hits']['total'])"
   ]
  },
  {
   "cell_type": "markdown",
   "metadata": {},
   "source": [
    "<b>RESPUESTA: 44034 TWEETS TIENEN LA PALABRA \"liverpool\""
   ]
  },
  {
   "cell_type": "markdown",
   "metadata": {},
   "source": [
    "<h1><b>1.2 ¿Cómo se distribuye los tweets en el tiempo (ver en un histograma)"
   ]
  },
  {
   "cell_type": "code",
   "execution_count": null,
   "metadata": {},
   "outputs": [],
   "source": [
    "#CONSULTA: ¿Cuántos tweets cada minuto?\n",
    "res = es.search(index=\"tp5-romero\", body={\"aggs\" : { \"tweets_over_time\" : \\\n",
    "                                                            { \"date_histogram\" : { \"field\" : \\\n",
    "                                                                                  \"timestamp\", \"interval\" : \"1m\" \\\n",
    "                                                                                 }}}})\n",
    "for data in res['aggregations']['tweets_over_time']['buckets']:\n",
    "    print(data['doc_count'])"
   ]
  },
  {
   "cell_type": "code",
   "execution_count": 8,
   "metadata": {},
   "outputs": [
    {
     "data": {
      "text/html": [
       "<div>\n",
       "<style scoped>\n",
       "    .dataframe tbody tr th:only-of-type {\n",
       "        vertical-align: middle;\n",
       "    }\n",
       "\n",
       "    .dataframe tbody tr th {\n",
       "        vertical-align: top;\n",
       "    }\n",
       "\n",
       "    .dataframe thead th {\n",
       "        text-align: right;\n",
       "    }\n",
       "</style>\n",
       "<table border=\"1\" class=\"dataframe\">\n",
       "  <thead>\n",
       "    <tr style=\"text-align: right;\">\n",
       "      <th></th>\n",
       "      <th>numero_tweets</th>\n",
       "      <th>hora</th>\n",
       "    </tr>\n",
       "  </thead>\n",
       "  <tbody>\n",
       "    <tr>\n",
       "      <th>0</th>\n",
       "      <td>38</td>\n",
       "      <td>1527340680000</td>\n",
       "    </tr>\n",
       "    <tr>\n",
       "      <th>1</th>\n",
       "      <td>0</td>\n",
       "      <td>1527340740000</td>\n",
       "    </tr>\n",
       "    <tr>\n",
       "      <th>2</th>\n",
       "      <td>0</td>\n",
       "      <td>1527340800000</td>\n",
       "    </tr>\n",
       "    <tr>\n",
       "      <th>3</th>\n",
       "      <td>0</td>\n",
       "      <td>1527340860000</td>\n",
       "    </tr>\n",
       "    <tr>\n",
       "      <th>4</th>\n",
       "      <td>0</td>\n",
       "      <td>1527340920000</td>\n",
       "    </tr>\n",
       "    <tr>\n",
       "      <th>5</th>\n",
       "      <td>0</td>\n",
       "      <td>1527340980000</td>\n",
       "    </tr>\n",
       "    <tr>\n",
       "      <th>6</th>\n",
       "      <td>0</td>\n",
       "      <td>1527341040000</td>\n",
       "    </tr>\n",
       "    <tr>\n",
       "      <th>7</th>\n",
       "      <td>0</td>\n",
       "      <td>1527341100000</td>\n",
       "    </tr>\n",
       "    <tr>\n",
       "      <th>8</th>\n",
       "      <td>0</td>\n",
       "      <td>1527341160000</td>\n",
       "    </tr>\n",
       "    <tr>\n",
       "      <th>9</th>\n",
       "      <td>0</td>\n",
       "      <td>1527341220000</td>\n",
       "    </tr>\n",
       "  </tbody>\n",
       "</table>\n",
       "</div>"
      ],
      "text/plain": [
       "   numero_tweets           hora\n",
       "0             38  1527340680000\n",
       "1              0  1527340740000\n",
       "2              0  1527340800000\n",
       "3              0  1527340860000\n",
       "4              0  1527340920000\n",
       "5              0  1527340980000\n",
       "6              0  1527341040000\n",
       "7              0  1527341100000\n",
       "8              0  1527341160000\n",
       "9              0  1527341220000"
      ]
     },
     "execution_count": 8,
     "metadata": {},
     "output_type": "execute_result"
    }
   ],
   "source": [
    "tweets = pd.DataFrame(res['aggregations']['tweets_over_time']['buckets'])\n",
    "tweets = tweets.rename(columns={'key': 'hora', 'doc_count': 'numero_tweets'})\n",
    "tweets[:10]"
   ]
  },
  {
   "cell_type": "code",
   "execution_count": 9,
   "metadata": {},
   "outputs": [
    {
     "data": {
      "text/html": [
       "<div>\n",
       "<style scoped>\n",
       "    .dataframe tbody tr th:only-of-type {\n",
       "        vertical-align: middle;\n",
       "    }\n",
       "\n",
       "    .dataframe tbody tr th {\n",
       "        vertical-align: top;\n",
       "    }\n",
       "\n",
       "    .dataframe thead th {\n",
       "        text-align: right;\n",
       "    }\n",
       "</style>\n",
       "<table border=\"1\" class=\"dataframe\">\n",
       "  <thead>\n",
       "    <tr style=\"text-align: right;\">\n",
       "      <th></th>\n",
       "      <th>numero_tweets</th>\n",
       "      <th>hora</th>\n",
       "    </tr>\n",
       "  </thead>\n",
       "  <tbody>\n",
       "    <tr>\n",
       "      <th>0</th>\n",
       "      <td>38</td>\n",
       "      <td>09:18:00</td>\n",
       "    </tr>\n",
       "    <tr>\n",
       "      <th>1</th>\n",
       "      <td>0</td>\n",
       "      <td>09:19:00</td>\n",
       "    </tr>\n",
       "    <tr>\n",
       "      <th>2</th>\n",
       "      <td>0</td>\n",
       "      <td>09:20:00</td>\n",
       "    </tr>\n",
       "    <tr>\n",
       "      <th>3</th>\n",
       "      <td>0</td>\n",
       "      <td>09:21:00</td>\n",
       "    </tr>\n",
       "    <tr>\n",
       "      <th>4</th>\n",
       "      <td>0</td>\n",
       "      <td>09:22:00</td>\n",
       "    </tr>\n",
       "    <tr>\n",
       "      <th>5</th>\n",
       "      <td>0</td>\n",
       "      <td>09:23:00</td>\n",
       "    </tr>\n",
       "    <tr>\n",
       "      <th>6</th>\n",
       "      <td>0</td>\n",
       "      <td>09:24:00</td>\n",
       "    </tr>\n",
       "    <tr>\n",
       "      <th>7</th>\n",
       "      <td>0</td>\n",
       "      <td>09:25:00</td>\n",
       "    </tr>\n",
       "    <tr>\n",
       "      <th>8</th>\n",
       "      <td>0</td>\n",
       "      <td>09:26:00</td>\n",
       "    </tr>\n",
       "    <tr>\n",
       "      <th>9</th>\n",
       "      <td>0</td>\n",
       "      <td>09:27:00</td>\n",
       "    </tr>\n",
       "  </tbody>\n",
       "</table>\n",
       "</div>"
      ],
      "text/plain": [
       "   numero_tweets      hora\n",
       "0             38  09:18:00\n",
       "1              0  09:19:00\n",
       "2              0  09:20:00\n",
       "3              0  09:21:00\n",
       "4              0  09:22:00\n",
       "5              0  09:23:00\n",
       "6              0  09:24:00\n",
       "7              0  09:25:00\n",
       "8              0  09:26:00\n",
       "9              0  09:27:00"
      ]
     },
     "execution_count": 9,
     "metadata": {},
     "output_type": "execute_result"
    }
   ],
   "source": [
    "import datetime\n",
    "\n",
    "def timestamp2date(x):\n",
    "    y = datetime.datetime.fromtimestamp(x/1000).strftime('%H:%M:%S')\n",
    "    return y\n",
    "\n",
    "tweets['hora']=tweets['hora'].apply(timestamp2date)\n",
    "tweets[:10]"
   ]
  },
  {
   "cell_type": "markdown",
   "metadata": {},
   "source": [
    "<B>RESPUESTA:"
   ]
  },
  {
   "cell_type": "code",
   "execution_count": 10,
   "metadata": {},
   "outputs": [
    {
     "data": {
      "image/png": "[encoded data removed]",
      "text/plain": [
       "<matplotlib.figure.Figure at 0x1121d9780>"
      ]
     },
     "metadata": {},
     "output_type": "display_data"
    }
   ],
   "source": [
    "import matplotlib.pyplot as plt\n",
    "%matplotlib inline\n",
    "\n",
    "tweets.plot(kind='bar',figsize=(40,10), fontsize=10, x='hora')\n",
    "plt.show()"
   ]
  },
  {
   "cell_type": "markdown",
   "metadata": {},
   "source": [
    "<h1><b>2) ¿De dónde vienen los tweets? (utilizar el campo 'location')<br>\n",
    "\n"
   ]
  },
  {
   "cell_type": "markdown",
   "metadata": {},
   "source": [
    "<b>RESPUESTA:"
   ]
  },
  {
   "cell_type": "code",
   "execution_count": 15,
   "metadata": {},
   "outputs": [
    {
     "name": "stdout",
     "output_type": "stream",
     "text": [
      "Got 354000 Hits:\n",
      "Instagram arachelisfcb\n",
      "None\n",
      "None\n",
      "Temuco, Chile\n",
      "None\n",
      "None\n",
      "Caernarfon / Bangor\n",
      "Las Palmas de Gran Canaria\n",
      " Mansoura..Egypt\n",
      "Lima, Perú\n"
     ]
    }
   ],
   "source": [
    "res = es.search(index=\"tp5-romero\", body={\"query\": {\"match_all\": {}}})\n",
    "print(\"Got %d Hits:\" % res['hits']['total'])\n",
    "for data in res['hits']['hits']:\n",
    "    print(\"%(location)s\" % data[\"_source\"])"
   ]
  },
  {
   "cell_type": "markdown",
   "metadata": {},
   "source": [
    "<h1><b>3. ¿Cuántos tweets tienen las palabras \"liverpool\" y \"goal\"? (ver en un histograma)<br>\n",
    "\n"
   ]
  },
  {
   "cell_type": "code",
   "execution_count": 126,
   "metadata": {},
   "outputs": [
    {
     "name": "stdout",
     "output_type": "stream",
     "text": [
      "Got 1666 Hits:\n"
     ]
    },
    {
     "data": {
      "text/html": [
       "<div>\n",
       "<style scoped>\n",
       "    .dataframe tbody tr th:only-of-type {\n",
       "        vertical-align: middle;\n",
       "    }\n",
       "\n",
       "    .dataframe tbody tr th {\n",
       "        vertical-align: top;\n",
       "    }\n",
       "\n",
       "    .dataframe thead th {\n",
       "        text-align: right;\n",
       "    }\n",
       "</style>\n",
       "<table border=\"1\" class=\"dataframe\">\n",
       "  <thead>\n",
       "    <tr style=\"text-align: right;\">\n",
       "      <th></th>\n",
       "      <th>evento</th>\n",
       "      <th>tweets_liverpool_goal</th>\n",
       "    </tr>\n",
       "  </thead>\n",
       "  <tbody>\n",
       "    <tr>\n",
       "      <th>0</th>\n",
       "      <td>1</td>\n",
       "      <td>1666</td>\n",
       "    </tr>\n",
       "  </tbody>\n",
       "</table>\n",
       "</div>"
      ],
      "text/plain": [
       "   evento tweets_liverpool_goal\n",
       "0       1                  1666"
      ]
     },
     "execution_count": 126,
     "metadata": {},
     "output_type": "execute_result"
    }
   ],
   "source": [
    "es = Elasticsearch()\n",
    "\n",
    "res = es.search(index=\"tp5-romero\", body={\"query\": {\n",
    "        \"match\": {\n",
    "            \"text\": {      \n",
    "                \"query\":    \"liverpool goal!\",\n",
    "                \"operator\": \"and\"\n",
    "            }\n",
    "        }\n",
    "    }})\n",
    "print(\"Got %d Hits:\" % res['hits']['total'])\n",
    "d = {'evento': [1] , 'tweets_liverpool_goal': [ \"%d\" % res['hits']['total']]}\n",
    "df = pd.DataFrame(data=d)\n",
    "df"
   ]
  },
  {
   "cell_type": "markdown",
   "metadata": {},
   "source": [
    "<b>RESPUESTA"
   ]
  },
  {
   "cell_type": "code",
   "execution_count": 76,
   "metadata": {},
   "outputs": [
    {
     "data": {
      "image/png": "[encoded data removed]",
      "text/plain": [
       "<matplotlib.figure.Figure at 0x117d74080>"
      ]
     },
     "metadata": {},
     "output_type": "display_data"
    }
   ],
   "source": [
    "df.plot(kind='bar',figsize=(40,10), fontsize=10, x='tweets_liverpool_goal')\n",
    "plt.show()"
   ]
  },
  {
   "cell_type": "markdown",
   "metadata": {},
   "source": [
    "<h1><b>4. Graficar un Pie Chart comparando el número de tweets con: a) la palabra 'liverpool', b) la palabra 'madrid', c) la palabra 'madrid' y 'liverpool' d) ninguna de las palabras<br>\n",
    "\n"
   ]
  },
  {
   "cell_type": "markdown",
   "metadata": {},
   "source": [
    "<b>a. TWEETS CON LA PALABRA: liverpool"
   ]
  },
  {
   "cell_type": "code",
   "execution_count": 97,
   "metadata": {},
   "outputs": [
    {
     "name": "stdout",
     "output_type": "stream",
     "text": [
      "44034\n"
     ]
    }
   ],
   "source": [
    "es = Elasticsearch()\n",
    "\n",
    "res = es.search(index=\"tp5-romero\", body={\"query\" : { \"match\" : { \"text\" : \"liverpool\" }\n",
    "      }})\n",
    "liverpool = int(\"%d\" % res['hits']['total'])\n",
    "print(liverpool)"
   ]
  },
  {
   "cell_type": "markdown",
   "metadata": {},
   "source": [
    "<b>b. TWEETS CON LA PALABRA: madrid"
   ]
  },
  {
   "cell_type": "code",
   "execution_count": 98,
   "metadata": {},
   "outputs": [
    {
     "name": "stdout",
     "output_type": "stream",
     "text": [
      "32002\n"
     ]
    }
   ],
   "source": [
    "res = es.search(index=\"tp5-romero\", body={\"query\" : { \"match\" : { \"text\" : \"madrid\" }\n",
    "      }})\n",
    "madrid = int(\"%d\" % res['hits']['total'])\n",
    "print(madrid)"
   ]
  },
  {
   "cell_type": "markdown",
   "metadata": {},
   "source": [
    "<b>c. TWEETS CON LA PALABRAS: madrid y liverpool"
   ]
  },
  {
   "cell_type": "code",
   "execution_count": 132,
   "metadata": {},
   "outputs": [
    {
     "name": "stdout",
     "output_type": "stream",
     "text": [
      "15040\n"
     ]
    }
   ],
   "source": [
    "res = es.search(index=\"tp5-romero\", body={\"query\": {\n",
    "        \"match\": {\n",
    "            \"text\": {      \n",
    "                \"query\":    \"liverpool madrid!\",\n",
    "                \"operator\": \"and\"\n",
    "            }\n",
    "        }\n",
    "    }})\n",
    "madliver = int(\"%d\" % res['hits']['total'])\n",
    "print(madliver)"
   ]
  },
  {
   "cell_type": "markdown",
   "metadata": {},
   "source": [
    "<b>d. TWEETS CON NINGUNA DE LAS PALABRAS"
   ]
  },
  {
   "cell_type": "code",
   "execution_count": 100,
   "metadata": {},
   "outputs": [
    {
     "name": "stdout",
     "output_type": "stream",
     "text": [
      "60996\n"
     ]
    }
   ],
   "source": [
    "res = es.search(index=\"tp5-romero\", body={\"query\": {\n",
    "        \"match\": {\n",
    "            \"text\": {      \n",
    "                \"query\":    \"liverpool madrid!\",\n",
    "                \"operator\": \"or\"\n",
    "            }\n",
    "        }\n",
    "    }})\n",
    "madliver_or = int(\"%d\" % res['hits']['total'])\n",
    "print(madliver_or)"
   ]
  },
  {
   "cell_type": "code",
   "execution_count": 101,
   "metadata": {},
   "outputs": [
    {
     "name": "stdout",
     "output_type": "stream",
     "text": [
      "354000\n"
     ]
    }
   ],
   "source": [
    "res = es.search(index=\"tp5-romero\", body={\"query\": {\"match_all\": {}}})\n",
    "all_tweets = int(\"%d\" % res['hits']['total'])\n",
    "print(all_tweets)"
   ]
  },
  {
   "cell_type": "code",
   "execution_count": 102,
   "metadata": {},
   "outputs": [
    {
     "name": "stdout",
     "output_type": "stream",
     "text": [
      "293004\n"
     ]
    }
   ],
   "source": [
    "ninguna = all_tweets - madliver_or\n",
    "print(ninguna)"
   ]
  },
  {
   "cell_type": "markdown",
   "metadata": {},
   "source": [
    "<B>CREANDO EL PIE CHART"
   ]
  },
  {
   "cell_type": "code",
   "execution_count": 117,
   "metadata": {},
   "outputs": [
    {
     "data": {
      "image/png": "[encoded data removed]",
      "text/plain": [
       "<matplotlib.figure.Figure at 0x1181d2828>"
      ]
     },
     "metadata": {},
     "output_type": "display_data"
    }
   ],
   "source": [
    "df = pd.DataFrame(    { 'Tweets': [liverpool, madrid ,madliver, ninguna]}  , index=['liverpool', 'madrid', 'liverpoll_madrid','Ninguno']     )\n",
    "plot = df.plot.pie(y='Tweets', figsize=(5, 5))"
   ]
  },
  {
   "cell_type": "markdown",
   "metadata": {},
   "source": [
    "<h1><b>5. ¿Cuáles son los emoticons más frecuentes? A partir de las visualizaciones disponibles en las librerias MatplotLib y/o Seaborn (seaborn.pydata.org), proponer una visualización para observar las emociones expresadas durante el partido<br>"
   ]
  },
  {
   "cell_type": "markdown",
   "metadata": {},
   "source": [
    "<b>RESPUESTA: Según lo que leí en Internet, en Elasticsearch aún no existen las librerías para realizar un filtrado avanzado de emoticons. Si existiesen, podríamos agrupar los emogis por categorías. Ejemplos de estas categorías serían: Felicidad, Tristeza y Enojo. Utilizando las librerias de MatplotLib y estas categorías podríamos, en un PieChart mostrar cuales son las emociones expresadas durante el partido."
   ]
  },
  {
   "cell_type": "code",
   "execution_count": null,
   "metadata": {},
   "outputs": [],
   "source": []
  }
 ],
 "metadata": {
  "kernelspec": {
   "display_name": "Python 3",
   "language": "python",
   "name": "python3"
  },
  "language_info": {
   "codemirror_mode": {
    "name": "ipython",
    "version": 3
   },
   "file_extension": ".py",
   "mimetype": "text/x-python",
   "name": "python",
   "nbconvert_exporter": "python",
   "pygments_lexer": "ipython3",
   "version": "3.6.4"
  }
 },
 "nbformat": 4,
 "nbformat_minor": 2
}
