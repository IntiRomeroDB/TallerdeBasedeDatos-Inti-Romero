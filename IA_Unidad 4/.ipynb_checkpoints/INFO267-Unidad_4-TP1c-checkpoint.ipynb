{
 "cells": [
  {
   "cell_type": "markdown",
   "metadata": {},
   "source": [
    "# <center>Entrenar y evaluar una red neuronal convolucional para resolver un problema de clasificación de imágenes</center>\n",
    "\n",
    "<div style=\"background-color: #fdebd0 \">\n",
    "<b>Este TP tiene 3 objetivos:</b><br>\n",
    "- Describir conceptos vinculados al entrenamiento y uso de <i>ConvNets</i> para la clasificación de imágenes<br>\n",
    "- Familiarizarse con la librería PyTorch<br>\n",
    "- Reproducir un protocolo para entrenar una red neuronal convolucional y clasificar imágenes.</div>\n",
    "\n",
    "\n",
    "PyTorch es una librería de aprendizaje automático de código abierto para Python, desarrollada principalmente por el grupo de investigación de inteligencia artificial de Facebook. Dentro de PyTorch, el paquete <code>torchvision</code> consiste en conjuntos de datos populares, arquitecturas de modelos y transformaciones de imágenes comunes para la visión artificial.\n",
    "\n",
    "En la primera parte del trabajo práctico, utilizaremos el conjunto de datos CIFAR10 disponible en <code>torchvision</code>.  Este dataset sirve para aprender a resolver un problema de clasificación con 10 clases: 'avión', 'automóvil', 'pájaro', 'gato', 'ciervo', 'perro', 'rana', 'caballo', 'barco', 'camión'. Las imágenes en CIFAR-10 son de tamaño 3x32x32, es decir, imágenes en color de 3 canales de 32x32 píxeles de tamaño: https://www.cs.toronto.edu/~kriz/cifar.html\n",
    "\n",
    "El código está basado en el tutorial de PyTorch siguiente: https://pytorch.org/tutorials/beginner/blitz/cifar10_tutorial.html\n",
    "\n",
    "<img src=\"cifar10.png\"></img>"
   ]
  },
  {
   "cell_type": "markdown",
   "metadata": {},
   "source": [
    "Para resolver el problema de clasificación de imágenes, seguiremos los siguientes pasos:\n",
    "\n",
    "- Cargar y normalizar los conjuntos de datos de entrenamiento y pruebas utilizando CIFAR10.\n",
    "- Configurar una red neuronal de convolución\n",
    "- Definir una función de pérdida\n",
    "- Optimizar la red sobre los datos de entrenamiento\n",
    "- Probar el rendimiento de la red con los datos de test\n",
    "\n",
    "Por cada paso, se solicita responder a una serie de preguntas."
   ]
  },
  {
   "cell_type": "markdown",
   "metadata": {},
   "source": [
    "## 1. Cargar y normalizar el dataset CIFAR10"
   ]
  },
  {
   "cell_type": "code",
   "execution_count": 1,
   "metadata": {},
   "outputs": [
    {
     "name": "stdout",
     "output_type": "stream",
     "text": [
      "Files already downloaded and verified\n",
      "Files already downloaded and verified\n"
     ]
    }
   ],
   "source": [
    "#el paquete torch contiene estructuras de datos para tensores multidimensionales y se definen operaciones\n",
    "#matemáticas sobre estos. Además, proporciona muchas utilidades para la serialización eficiente de tensores y tipos\n",
    "#arbitrarios, y otras utilidades útiles.\n",
    "import torch\n",
    "#torchvision: libreria de imagenes\n",
    "import torchvision\n",
    "#TRANSFORMACIONES DE IMAGENES COMUNES\n",
    "import torchvision.transforms as transforms\n",
    "\n",
    "#La salida del conjunto de datos \"torchvision\" son imagenes del tipo PILImage de rango [0, 1]. \n",
    "\n",
    "\n",
    "#Compose: Compone varias transformaciones juntas. \n",
    "# Define una función que realizará varias transformaciones de forma simultanea\n",
    "#ToTensor(): Convierte una imagen PIL o un numpy.ndarray a un tensor.\n",
    "transform = transforms.Compose(\n",
    "    [transforms.ToTensor(),\n",
    "     transforms.Normalize((0.5, 0.5, 0.5), (0.5, 0.5, 0.5))])\n",
    "\n",
    "# trainset: (image, target) donde target es un indice de la clase de target.\n",
    "# root:      Directorio en mi computadora del servidor Anaconda donde el data set será guardado si no existe.\n",
    "# train:     Si es Verdadero, crea un conjunto de datos desde el conjunto de entrenamiento, de lo contrario crea desde el conjunto de prueba.\n",
    "# download:  Si es verdadero, descarga el conjunto de datos de Internet y lo coloca en el directorio raíz. \n",
    "#            Si el conjunto de datos ya está descargado, no se vuelve a descargar.\n",
    "# transform: Una función / transformación que toma una imagen PIL y devuelve una versión transformada.\n",
    "\n",
    "trainset = torchvision.datasets.CIFAR10(root='./data', train=True,\n",
    "                                        download=True, transform=transform)\n",
    "\n",
    "#### Data loader: Combina un conjunto de datos y una muestra, y proporciona iteradores de proceso único o \n",
    "#                    múltiple sobre el conjunto de datos. \n",
    "\n",
    "# trainset: Conjunto de datos desde donde se cargaran los datos.\n",
    "# batch_size: Cuántas muestras por lote cargar. \n",
    "# shuffle: Configúrelo en Verdadero para que los datos se reorganicen en cada época.\n",
    "# num_workers: How many subprocesses to use for data loading. 0 means that the data will be loaded in the main process.\n",
    "\n",
    "\n",
    "trainloader = torch.utils.data.DataLoader(trainset, batch_size=4,\n",
    "                                          shuffle=True, num_workers=2)\n",
    "\n",
    "testset = torchvision.datasets.CIFAR10(root='./data', train=False,\n",
    "                                       download=True, transform=transform)\n",
    "testloader = torch.utils.data.DataLoader(testset, batch_size=4,\n",
    "                                         shuffle=False, num_workers=2)\n",
    "\n",
    "classes = ('plane', 'car', 'bird', 'cat',\n",
    "           'deer', 'dog', 'frog', 'horse', 'ship', 'truck')"
   ]
  },
  {
   "cell_type": "markdown",
   "metadata": {},
   "source": [
    "<div style=\"background-color: #fdebd0 \">\n",
    "<b>Preguntas</b><br>\n",
    "<b>1) ¿Cuál es el tamaño del dataset de entrenamiento y del dataset de test? (Imprimir el resultado con la función <code>print</code>)</b><br>\n",
    "Como se observa abajo, el tamaño del dataset de entrenamiento es de 50000 datos y el tamaño del dataset de test es de 10000 datos."
   ]
  },
  {
   "cell_type": "code",
   "execution_count": 2,
   "metadata": {},
   "outputs": [
    {
     "name": "stdout",
     "output_type": "stream",
     "text": [
      "Dataset CIFAR10\n",
      "    Number of datapoints: 50000\n",
      "    Split: train\n",
      "    Root Location: ./data\n",
      "    Transforms (if any): Compose(\n",
      "                             ToTensor()\n",
      "                             Normalize(mean=(0.5, 0.5, 0.5), std=(0.5, 0.5, 0.5))\n",
      "                         )\n",
      "    Target Transforms (if any): None\n"
     ]
    }
   ],
   "source": [
    "print(trainset)"
   ]
  },
  {
   "cell_type": "code",
   "execution_count": 3,
   "metadata": {},
   "outputs": [
    {
     "name": "stdout",
     "output_type": "stream",
     "text": [
      "Dataset CIFAR10\n",
      "    Number of datapoints: 10000\n",
      "    Split: test\n",
      "    Root Location: ./data\n",
      "    Transforms (if any): Compose(\n",
      "                             ToTensor()\n",
      "                             Normalize(mean=(0.5, 0.5, 0.5), std=(0.5, 0.5, 0.5))\n",
      "                         )\n",
      "    Target Transforms (if any): None\n"
     ]
    }
   ],
   "source": [
    "print(testset)"
   ]
  },
  {
   "cell_type": "markdown",
   "metadata": {},
   "source": [
    "<div style=\"background-color: #fdebd0 \">\n",
    "<b>2) ¿Por qué el parametro <code>shuffle</code> se configura \"True\" para el dataset de entrenamiento y \"False\" para el dataset de test? </b><br>\n",
    "    \n",
    "Este parametro se configura True para que el sub conjunto de datos que será tomado del dataset sea \"barajado\", es decir el orden de las imagenes sea cambiado de forma aleatoria. Y se configura false para que el sub conjunto de datos que será tomado del dataset NO sea \"barajado\".<br> \n",
    "<b>¿De qué sirve este parametro?</b><br>\n",
    "Sirve para que al entrenar el modelo el orden en el que se encuentran las imagenes no introdusca algún sesgo al modelo.\n",
    "    \n",
    "   "
   ]
  },
  {
   "cell_type": "markdown",
   "metadata": {},
   "source": [
    "<B>El código siguiente permite mostrar imagenes aleatorias del dataset de entrenamiento y su etiqueta real:"
   ]
  },
  {
   "cell_type": "code",
   "execution_count": 4,
   "metadata": {},
   "outputs": [
    {
     "data": {
      "text/plain": [
       "<Figure size 640x480 with 1 Axes>"
      ]
     },
     "metadata": {},
     "output_type": "display_data"
    },
    {
     "name": "stdout",
     "output_type": "stream",
     "text": [
      "  cat  ship   dog   car\n"
     ]
    }
   ],
   "source": [
    "import matplotlib.pyplot as plt\n",
    "import numpy as np\n",
    "\n",
    "# functions to show an image\n",
    "def imshow(img):\n",
    "    img = img / 2 + 0.5     # unnormalize\n",
    "    npimg = img.numpy()\n",
    "    plt.imshow(np.transpose(npimg, (1, 2, 0)))\n",
    "    plt.show()\n",
    "    \n",
    "def imagesFromBatches(iterator,quantity):\n",
    "    dataiter = iter(iterator)\n",
    "    images, labels = dataiter.next()    \n",
    "    imshow(torchvision.utils.make_grid(images))\n",
    "    print(' '.join('%5s' % classes[labels[j]] for j in range(quantity)))\n",
    "    return (images,labels)\n",
    "\n",
    "# get some random training images\n",
    "dataiter = iter(trainloader)\n",
    "images, labels = dataiter.next()\n",
    "\n",
    "# show images\n",
    "imshow(torchvision.utils.make_grid(images))\n",
    "# print labels\n",
    "print(' '.join('%5s' % classes[labels[j]] for j in range(4)))"
   ]
  },
  {
   "cell_type": "markdown",
   "metadata": {},
   "source": [
    "## 2. Configurar la CNN"
   ]
  },
  {
   "cell_type": "code",
   "execution_count": 5,
   "metadata": {},
   "outputs": [
    {
     "name": "stdout",
     "output_type": "stream",
     "text": [
      "----------------------------------------------------------------\n",
      "        Layer (type)               Output Shape         Param #\n",
      "================================================================\n",
      "            Conv2d-1            [-1, 6, 28, 28]             456\n",
      "         MaxPool2d-2            [-1, 6, 14, 14]               0\n",
      "            Conv2d-3           [-1, 16, 10, 10]           2,416\n",
      "         MaxPool2d-4             [-1, 16, 5, 5]               0\n",
      "            Linear-5                  [-1, 120]          48,120\n",
      "            Linear-6                   [-1, 84]          10,164\n",
      "            Linear-7                   [-1, 10]             850\n",
      "================================================================\n",
      "Total params: 62,006\n",
      "Trainable params: 62,006\n",
      "Non-trainable params: 0\n",
      "----------------------------------------------------------------\n",
      "Input size (MB): 0.01\n",
      "Forward/backward pass size (MB): 0.06\n",
      "Params size (MB): 0.24\n",
      "Estimated Total Size (MB): 0.31\n",
      "----------------------------------------------------------------\n"
     ]
    }
   ],
   "source": [
    "import torch.nn as nn\n",
    "# Importa funciones de convolución\n",
    "import torch.nn.functional as F\n",
    "\n",
    "from torchsummary import summary\n",
    "\n",
    "# nn.Module: Clase base para todos los módulos de red neuronal. Sus modelos también deben subclasificar esta clase.\n",
    "#### ESTA CREANDO UN OBJETO QUE SERA LA RED NEURONAL\n",
    "class Net(nn.Module):\n",
    "    #### Módulo de red neuronal?? - ¿ESTA CREANDO EL CONSTRUCTOR DEL OBJETO\n",
    "    def __init__(self):\n",
    "        super(Net, self).__init__()\n",
    "        #### ESTAS SON FUNCIONES PRIVADAS DEL OBJETO\n",
    "        \n",
    "        # CONVOLUCION: Transformar la imagen para representar sus características relevantes y eliminar la información irrelevante\n",
    "        # para resolver el problema de clasificación.\n",
    "        \n",
    "        # nn.Conv2d(in_channels, out_channels, kernel_size): Aplica una convolución 2D sobre una señal de entrada\n",
    "        #                                                    compuesta de varios planos de entrada.\n",
    "        #    in_channels: Número de canales en la imagen de entrada.\n",
    "        #    out_channels: Número de canales producidos por la convolución. Número de filtros.\n",
    "        ####    kernel_size: Tamaño del núcleo que está convolucionando. -- TAMAÑO DEL FILTRO EN ESTA CASO MATRIZ 5X5\n",
    "        self.conv1 = nn.Conv2d(3, 6, 5)\n",
    "        \n",
    "        # POOLING: Reducir el tamaño de las imágenes, acelerar los tiempos de cálculo y mejorar la detección de las características\n",
    "        # nn.MaxPool2d(kernel_size, stride=None): Aplica un max pooling 2D sobre una señal de entrada compuesta por varios planos de entrada.\n",
    "        #            kernel_size: El tamaño de la ventana sobre la cual se tomara un máximo. El tamaño del filtro.\n",
    "        #            stride: El paso de la ventana.\n",
    "        self.pool = nn.MaxPool2d(2, 2)\n",
    "        \n",
    "        \n",
    "        self.conv2 = nn.Conv2d(6, 16, 5)\n",
    "        \n",
    "        #Fully-connected layers o MultiLayer Perceptron - Ultimas capas de la CNN o red neuronal convolucional\n",
    "        # Algoritmo Perceptrón (Rosemblatt, 1962) resuelve problema de clasificación binaria.\n",
    "        # nn.Linear(in_features, out_features): Aplica una transformación lineal a los datos entrantes: y = xA^T+b\n",
    "        #         in_features: Tamaño de cada muestra de entrada.: metodos de clasficiacion\n",
    "        #         out_features: Tamaño de cada muestra de salida.\n",
    "        #         \n",
    "        \n",
    "        self.fc1 = nn.Linear(16 * 5 * 5, 120)\n",
    "        self.fc2 = nn.Linear(120, 84)\n",
    "        self.fc3 = nn.Linear(84, 10)\n",
    "\n",
    "    def forward(self, x):\n",
    "        x = self.pool(F.relu(self.conv1(x)))\n",
    "        x = self.pool(F.relu(self.conv2(x)))\n",
    "        x = x.view(-1, 16 * 5 * 5)\n",
    "        x = F.relu(self.fc1(x))\n",
    "        x = F.relu(self.fc2(x))\n",
    "        x = self.fc3(x)\n",
    "        return x\n",
    "\n",
    "\n",
    "net = Net()\n",
    "\n",
    "summary(net,(3,32,32))"
   ]
  },
  {
   "cell_type": "markdown",
   "metadata": {},
   "source": [
    "<div style=\"background-color: #fdebd0 \">\n",
    "<b>Preguntas</b><br>\n",
    "<B>1) ¿Cuántas capas tiene esta ConvNet?</B><br>\n",
    "    7 capas <br>\n",
    "<B>2) Explicar los parametros de cada capa.</B>  <br>\n",
    "nn.Conv2d(in_channels, out_channels, kernel_size):\n",
    "<BR>\n",
    "- in_channels: Número de canales en la imagen de entrada.\n",
    "<BR>\n",
    "- out_channels: Número de filtros<BR>\n",
    "- kernel_size: Tamaño de los filtros. Por ejemplo: si es 5, el tamaño de los filtros será de 5x5. \n",
    "<br>\n",
    "nn.MaxPool2d(kernel_size, stride=None):<br>\n",
    "kernel_size: El tamaño de la ventana sobre la cual se tomara un máximo. El tamaño del filtro.<br>\n",
    "stride: El paso del filtro.<br>\n",
    "nn.Linear(in_features, out_features):<br> \n",
    "in_features: Cantidad de entradas que tendrá cada uno de los métodos de clasificación de esta capa.\n",
    "    <br> \n",
    "out_features: Cantidad de métodos de clasificación de esta capa.<br>\n",
    "    \n",
    "<B>¿Cuántos filtros se utilizan en las capas de convolución?</B><BR>\n",
    "Son en total 24 filtros. En la primera capa de convolución se utilizan 6 filtros. En la primera capa de pooling se utiliza 1 filtro.\n",
    "En la segunda capa de convolución se utilizan 16 filtros y en la segunda capa de pooling de utiliza 1 filtro.<br>\n",
    "\n",
    "<B>¿Cuál es el tamaño de los filtros?  </B>      \n",
    "<br>\n",
    "Todos los filtros en las capas de convolución son matrices de 5x5. Los filtros en las capas de pooling son de 2x2.   \n",
    "\n",
    "<B>3) ¿Cuál es la diferencia entre la función <code>init</code> y <code>forward</code>?</B><br>\n",
    "La función <code>init</code> es el constructor de la clase Net, inicializando sus funciones, mientras que la\n",
    "función <code>forward</code> es una funcion que utiliza las funciones definidas en <code>init</code> para realizar el proceso de clasificación de imágenes, aplicando capas tras capa de la red neuronal a las imagenes de entrada. En resumen, define todo el proceso que tiene que seguir la imagen para pasar por la red neuronal.<br>\n",
    " \n",
    "<B>4) ¿De qué sirve la función view()? Explicar sus parametros.</B><br>\n",
    "    En este caso transforma un tensor multidimensional a un tensor de 1 dimensión. El primer parámetro de entrada de la función \"view\" define el nuevo número de\n",
    "    filas que tendrá el tensor. El segundo parámetro define el nuevo número de columnas que tendrá el tensor. Si no se está seguro de la cantidad de filas que se quiere en el nuevo tensor, pero si se sabe la cantidad de columnas que se desea, entonces se puede colocar en el primer parámetro un \"-1\" y en el segundo parámetro se puede colocal el número de columnas deseado y de forma automática se esablecerá el número de filas dependiendo del número de columnas puesto.<BR>\n",
    "<B>5) ¿Cuántos paramétros en total se tiene que aprender con esta ConvNet?</B> <br>\n",
    "    62.006<br>\n",
    "<B>6) ¿Por qué se utiliza la función <code>conv2d</code> aunque tenemos imagenes con 3 canales?</B><BR>\n",
    "Porque el filtro tiene la misma dimesión que la imagen de entrada.\n",
    "</div>"
   ]
  },
  {
   "cell_type": "markdown",
   "metadata": {},
   "source": [
    "## 3. Entrenar la CNN"
   ]
  },
  {
   "cell_type": "code",
   "execution_count": 6,
   "metadata": {
    "collapsed": true
   },
   "outputs": [],
   "source": [
    "# torch.optim: Es un paquete que implementa varios algoritmos de optimización.\n",
    "import torch.optim as optim\n",
    "\n",
    "criterion = nn.CrossEntropyLoss()#calcula quien tiene el menor \"gradiente\", cual punto alrededor es el minimo\n",
    "\n",
    "# optim.SGD(params, lr=<required parameter>, momentum=0, dampening=0, weight_decay=0, nesterov=False): Implementa stochastic gradient descent \n",
    "optimizer = optim.SGD(net.parameters(), lr=0.001, momentum=0.9)\n",
    "#algoritmo para actualizar los parametros"
   ]
  },
  {
   "cell_type": "code",
   "execution_count": 7,
   "metadata": {},
   "outputs": [
    {
     "name": "stdout",
     "output_type": "stream",
     "text": [
      "[1,  2000] loss: 2.141\n",
      "[1,  4000] loss: 1.808\n",
      "[1,  6000] loss: 1.658\n",
      "[1,  8000] loss: 1.552\n",
      "[1, 10000] loss: 1.493\n",
      "[1, 12000] loss: 1.459\n",
      "[2,  2000] loss: 1.387\n",
      "[2,  4000] loss: 1.362\n",
      "[2,  6000] loss: 1.320\n",
      "[2,  8000] loss: 1.322\n",
      "[2, 10000] loss: 1.290\n",
      "[2, 12000] loss: 1.280\n",
      "[3,  2000] loss: 1.204\n",
      "[3,  4000] loss: 1.226\n",
      "[3,  6000] loss: 1.192\n",
      "[3,  8000] loss: 1.186\n",
      "[3, 10000] loss: 1.199\n",
      "[3, 12000] loss: 1.174\n",
      "[4,  2000] loss: 1.110\n",
      "[4,  4000] loss: 1.129\n",
      "[4,  6000] loss: 1.094\n",
      "[4,  8000] loss: 1.105\n",
      "[4, 10000] loss: 1.116\n",
      "[4, 12000] loss: 1.096\n",
      "Finished Training\n"
     ]
    }
   ],
   "source": [
    "for epoch in range(4):  # loop over the dataset multiple times\n",
    "#itera y trata de encontrar las lmejores solucions para este sistema\n",
    "#hacer el proceso varias veces, empezando desde un punto distinto\n",
    "    running_loss = 0.0\n",
    "    for i, data in enumerate(trainloader, 0):\n",
    "        # get the inputs\n",
    "        inputs, labels = data\n",
    "\n",
    "        # zero the parameter gradients\n",
    "        optimizer.zero_grad()\n",
    "\n",
    "        # forward + backward + optimize\n",
    "        outputs = net(inputs)\n",
    "        loss = criterion(outputs, labels)\n",
    "        loss.backward()\n",
    "        optimizer.step()\n",
    "\n",
    "        # print statistics\n",
    "        running_loss += loss.item()\n",
    "        if i % 2000 == 1999:    # print every 2000 mini-batches\n",
    "            print('[%d, %5d] loss: %.3f' %\n",
    "                  (epoch + 1, i + 1, running_loss / 2000))\n",
    "            running_loss = 0.0\n",
    "\n",
    "print('Finished Training')"
   ]
  },
  {
   "cell_type": "markdown",
   "metadata": {},
   "source": [
    "- Ver la video: https://www.youtube.com/watch?v=ErfnhcEV1O8 - A Short Introduction to Entropy, Cross-Entropy and KL-Divergence\n",
    "\n",
    "- Leer: http://ruder.io/optimizing-gradient-descent/index.html - An overview of gradient descent optimization algorithm\n",
    "\n",
    "<div style=\"background-color: #fdebd0 \">\n",
    "<b>Preguntas</b><br>\n",
    "<b>1) ¿Qué hace la función <code>CrossEntropyLoss</code>? </b><br>\n",
    "Nos dice cuan acertadas son las predicciones de nuestro modelo en comparación al conjunto de datos de entrenamiento.<BR>\n",
    "<b>Qué devuelve?</b><br>\n",
    "Un número que mienstras más se acerca a cero, significa que los resultados del modelo obtendio se parecen más a los resultados mostrados por los datos del dataset de entrenamiento.<br>\n",
    "<b>¿Con qué otra función se podría reemplazar <code>CrossEntropy</code>?</b><br>\n",
    "Multi class SVM Loss: Esta es una de las funciones de pérdida comunes utilizadas en Machine Learning.<br>\n",
    "<b>2) ¿Cuál es la diferencia principal entre los métodos de optimización Gradient Descent, Stochastic Gradient Descent y Mini-Batch Gradient Descent?</b>\n",
    "<br>\n",
    "Pudiendo calcular el gradiente de la función de pérdida, se denomina Gradient Descent al proceso de evaluar repetidamente el gradiente y luego realizar una actualización de los parámetros del modelo, pero es lento y no puede tratar conjuntos de datos que no puedan ser cargados en su totalidad en la memoria ram.<br>\n",
    "\n",
    "Una forma de explicar la diferencia entre estos métodos es decir que el método Gradient Descent es un igual a un modelo Mini-Batch con un mini-batch del tamaño del conjunto total de datos de entrenamiento. De la misma forma podriamos decir que un modelo Stochastic Gradient Descent es igual a un modelo Mini-Batch con un mini-batch de tamaño 1. Y finalemente el modelo Mini-Batch se espera sea un concenso entre SGD y GD con un mini.batch ni muy grande ni muy pequeño. En resumen la diferencia entre estos métodos es la cantidad de muestras que utilizan del dataset de entrenamiento para obtener los parámetros del modelo.<br>\n",
    " \n",
    "<b>3) ¿En nuestro ejemplo, qué método utilizamos?</b><BR>\n",
    "Mini-Batch Gradient Descent<BR>\n",
    "<b>¿En qué parte del código se podría cambiar el tamaño del batch?</b><br> \n",
    "Cuando se define la función \"trainloader\".<br>\n",
    "<b>4) ¿Qué metafora podemos utilizar para entender la idea del parametro <code>momentum</code>?</b><br>\n",
    "Es como el efecto de la gravedad sobre una balón de futbol sobre una colina. A medida que va bajando la colina el balón comienza a acelerar. Así mismo a medida que el modelo va iterando y buscando su camino hacia un mínimo, si el modelo comeinza a \"rebotar\" de un lado a otro de modo que no avanza con mucha velocidad hacia el mínimo, el parámetro de momentum le permite dejar de \"rebotar\" y dirigirse más rápido hacia el mínimo.<br>\n",
    "<b>5) ¿Podría ser útil aumentar el número de epoch? ¿Por qué? De qué sirve este parametro?</b><br>\n",
    "Si, pues al ir cambiando de epoch se toma como punto inicial uno diferente al tomado anteriormente, lo que evita caer en la misma solución local todo el tiempo. Este parámetro sirve para definir el número de veces que pasaremos por todo nuestro dataset de entrenamiento entrenando nuestro modelo.<br>\n",
    "</div>"
   ]
  },
  {
   "cell_type": "markdown",
   "metadata": {},
   "source": [
    "## 4. Evaluar la CNN"
   ]
  },
  {
   "cell_type": "markdown",
   "metadata": {},
   "source": [
    "Tomamos 4 ejemplos del dataset de test:"
   ]
  },
  {
   "cell_type": "code",
   "execution_count": 8,
   "metadata": {},
   "outputs": [
    {
     "data": {
      "image/png": "[encoded data removed]",
      "text/plain": [
       "<Figure size 432x288 with 1 Axes>"
      ]
     },
     "metadata": {
      "needs_background": "light"
     },
     "output_type": "display_data"
    },
    {
     "name": "stdout",
     "output_type": "stream",
     "text": [
      "  cat  ship  ship plane\n"
     ]
    }
   ],
   "source": [
    "BatchSize=4\n",
    "\n",
    "images,labels= imagesFromBatches(testloader,BatchSize)"
   ]
  },
  {
   "cell_type": "markdown",
   "metadata": {},
   "source": [
    "Clasificamos estas 4 imágenes con nuestra CNN: "
   ]
  },
  {
   "cell_type": "code",
   "execution_count": 9,
   "metadata": {},
   "outputs": [
    {
     "name": "stdout",
     "output_type": "stream",
     "text": [
      "Predicted:    cat  ship  ship plane\n"
     ]
    }
   ],
   "source": [
    "outputs = net(images)\n",
    "\n",
    "_, predicted = torch.max(outputs, 1)\n",
    "\n",
    "print('Predicted: ', ' '.join('%5s' % classes[predicted[j]]\n",
    "                              for j in range(4)))"
   ]
  },
  {
   "cell_type": "markdown",
   "metadata": {},
   "source": [
    "<div style=\"background-color: #fdebd0 \">\n",
    "<b>Pregunta</b><br>\n",
    "<B>1) ¿Cuál es el rendimiento del modelo entrenado sobre estos primeros ejemplos?</B><BR>\n",
    "EL RENDIMIENTO ES DE 100%, pues predijo todos los ejemplos de forma correcta.<br>\n",
    "</div>\n",
    "\n",
    "Calculamos el rendimiento de nuestra CNN sobre todos los datos del training set:"
   ]
  },
  {
   "cell_type": "code",
   "execution_count": 10,
   "metadata": {},
   "outputs": [
    {
     "name": "stdout",
     "output_type": "stream",
     "text": [
      "Accuracy of the network on the 10000 test images: 58 %\n"
     ]
    }
   ],
   "source": [
    "correct = 0\n",
    "total = 0\n",
    "with torch.no_grad():\n",
    "    for data in testloader:\n",
    "        images, labels = data\n",
    "        outputs = net(images)\n",
    "        _, predicted = torch.max(outputs.data, 1)\n",
    "        total += labels.size(0)\n",
    "        correct += (predicted == labels).sum().item()\n",
    "\n",
    "print('Accuracy of the network on the 10000 test images: %d %%' % (\n",
    "    100 * correct / total))"
   ]
  },
  {
   "cell_type": "markdown",
   "metadata": {},
   "source": [
    "Miramos el rendimiento de la CNN calculando su exactitud según cada etiqueta:"
   ]
  },
  {
   "cell_type": "code",
   "execution_count": 11,
   "metadata": {},
   "outputs": [
    {
     "name": "stdout",
     "output_type": "stream",
     "text": [
      "Accuracy of plane : 66 %\n",
      "Accuracy of   car : 78 %\n",
      "Accuracy of  bird : 44 %\n",
      "Accuracy of   cat : 35 %\n",
      "Accuracy of  deer : 40 %\n",
      "Accuracy of   dog : 41 %\n",
      "Accuracy of  frog : 84 %\n",
      "Accuracy of horse : 63 %\n",
      "Accuracy of  ship : 79 %\n",
      "Accuracy of truck : 55 %\n"
     ]
    }
   ],
   "source": [
    "class_correct = list(0. for i in range(10))\n",
    "class_total = list(0. for i in range(10))\n",
    "with torch.no_grad():\n",
    "    for data in testloader:\n",
    "        images, labels = data\n",
    "        outputs = net(images)\n",
    "        _, predicted = torch.max(outputs, 1)\n",
    "        c = (predicted == labels).squeeze()\n",
    "        for i in range(4):\n",
    "            label = labels[i]\n",
    "            class_correct[label] += c[i].item()\n",
    "            class_total[label] += 1\n",
    "\n",
    "\n",
    "for i in range(10):\n",
    "    print('Accuracy of %5s : %2d %%' % (\n",
    "        classes[i], 100 * class_correct[i] / class_total[i]))"
   ]
  },
  {
   "cell_type": "markdown",
   "metadata": {},
   "source": [
    "<div style=\"background-color: #fdebd0 \">\n",
    "<b>Preguntas:</b><br>\n",
    "<b>1) ¿Qué paramétros podrían modificar para tratar de mejorar el rendimiento de la CNN?</b> <br>\n",
    "Se podría modificar el tamaño del mini-batch y la tasa de aprendizaje.<BR>\n",
    "\n",
    "<b>2) ¿Cómo se llama la arquitectura de CNN que hemos utilizado? (ver slides del curso y https://medium.com/@sidereal/cnns-architectures-lenet-alexnet-vgg-googlenet-resnet-and-more-666091488df5 y https://adeshpande3.github.io/The-9-Deep-Learning-Papers-You-Need-To-Know-About.html)</b><br>\n",
    "LeNet-5<br>\n",
    "<b>3) ¿Qué pasa si tratan de agregar más filtros en la segunda capa de convolución?</b> <br>\n",
    "Tendríamos que modificar la definición del input de la primera capa MLP. Además tendríamos que modificar también la definición de la función \"view\". A continuación se presenta un ejemplo en que se agregan 4 filtros más a la segunda capa de convolución:\n",
    "    \n",
    "<code>self.conv2 = nn.Conv2d(6, 16, 5)      ->        self.conv2 = nn.Conv2d(6, 20, 5)</code><br> \n",
    "<code>self.fc1 = nn.Linear(16 * 5 * 5, 120)       ->       self.fc1 = nn.Linear(20 * 5 * 5, 120) </code><br> \n",
    "<code>x = x.view(-1, 16 * 5 * 5)      ->       x = x.view(-1, 20 * 5 * 5) </code>  <br> \n",
    "<b>4) ¿Qué pasa si trata de agregar una tercera capa de convolución y pooling? </b><br>\n",
    "Aparece un error de la función \"view\".\n",
    "    \n",
    "<b>5) ¿En la literatura, qué arquitecturas CNN permiten obtener mejores rendimiento que la arquitectura LeNet-5?  </b><br>\n",
    "AlexNet(7): 15.3% Top-5 error rate on ILSVRC.<br>\n",
    "ZFNet: 14.8% Top-5 error rate on ILSVRC.<br>\n",
    "GoogLeNet(19): 6.67% Top-5 error rate on ILSVRC.<br>\n",
    "VGG Net(16): 7.3% Top-5 error rate on ILSVRC.<br>\n",
    "ResNet(152): 3.6% Top-5 error rate on ILSVRC.\n",
    "<br>\n",
    "<b>Cuál es el limite de estas arquitecturas?</b><br>\n",
    "\n",
    "<br>\n",
    "<br>\n",
    "</div>"
   ]
  },
  {
   "cell_type": "markdown",
   "metadata": {},
   "source": [
    "<div style=\"background-color: #fdebd0 \">\n",
    "<b>T.P</b><br>\n",
    "Optimizar una CNN para resolver el problema asociado al dataset Fashion-MNIST (https://pytorch.org/docs/stable/torchvision/datasets.html#fashion-mnist). <br>\n",
    "\n",
    "1) ¿La arquitectura LeNet-5 es mejor que Random Forest? Comparar el rendimiento obtenido con lo obtenido por el algoritmo RandomForest (con 50 estimadores).\n",
    "</div>"
   ]
  },
  {
   "cell_type": "code",
   "execution_count": 41,
   "metadata": {
    "collapsed": true
   },
   "outputs": [
    {
     "name": "stdout",
     "output_type": "stream",
     "text": [
      "Files already downloaded and verified\n"
     ]
    }
   ],
   "source": [
    "#el paquete torch contiene estructuras de datos para tensores multidimensionales y se definen operaciones\n",
    "#matemáticas sobre estos. Además, proporciona muchas utilidades para la serialización eficiente de tensores y tipos\n",
    "#arbitrarios, y otras utilidades útiles.\n",
    "import torch\n",
    "#torchvision: libreria de imagenes\n",
    "import torchvision\n",
    "#TRANSFORMACIONES DE IMAGENES COMUNES\n",
    "import torchvision.transforms as transforms\n",
    "\n",
    "#La salida del conjunto de datos \"torchvision\" son imagenes del tipo PILImage de rango [0, 1]. \n",
    "\n",
    "\n",
    "#Compose: Compone varias transformaciones juntas. \n",
    "# Define una función que realizará varias transformaciones de forma simultanea\n",
    "#ToTensor(): Convierte una imagen PIL o un numpy.ndarray a un tensor.\n",
    "transform = transforms.Compose(\n",
    "    [transforms.ToTensor(),\n",
    "     transforms.Normalize((0.5, 0.5, 0.5), (0.5, 0.5, 0.5))])\n",
    "\n",
    "# trainset: (image, target) donde target es un indice de la clase de target.\n",
    "# root:      Directorio en mi computadora del servidor Anaconda donde el data set será guardado si no existe.\n",
    "# train:     Si es Verdadero, crea un conjunto de datos desde el conjunto de entrenamiento, de lo contrario crea desde el conjunto de prueba.\n",
    "# download:  Si es verdadero, descarga el conjunto de datos de Internet y lo coloca en el directorio raíz. \n",
    "#            Si el conjunto de datos ya está descargado, no se vuelve a descargar.\n",
    "# transform: Una función / transformación que toma una imagen PIL y devuelve una versión transformada.\n",
    "\n",
    "trainset = torchvision.datasets.FashionMNIST(root='./data', train=True,\n",
    "                                        download=True, transform=transform)\n",
    "\n",
    "#### Data loader: Combina un conjunto de datos y una muestra, y proporciona iteradores de proceso único o \n",
    "#                    múltiple sobre el conjunto de datos. \n",
    "\n",
    "# trainset: Conjunto de datos desde donde se cargaran los datos.\n",
    "# batch_size: Cuántas muestras por lote cargar. \n",
    "# shuffle: Configúrelo en Verdadero para que los datos se reorganicen en cada época.\n",
    "# num_workers: How many subprocesses to use for data loading. 0 means that the data will be loaded in the main process.\n",
    "\n",
    "\n",
    "trainloader = torch.utils.data.DataLoader(trainset, batch_size=4,\n",
    "                                          shuffle=True, num_workers=2)\n",
    "\n",
    "testset = torchvision.datasets.CIFAR10(root='./data', train=False,\n",
    "                                       download=True, transform=transform)\n",
    "testloader = torch.utils.data.DataLoader(testset, batch_size=4,\n",
    "                                         shuffle=False, num_workers=2)\n",
    "\n",
    "classes = ('plane', 'car', 'bird', 'cat',\n",
    "           'deer', 'dog', 'frog', 'horse', 'ship', 'truck')"
   ]
  },
  {
   "cell_type": "code",
   "execution_count": 42,
   "metadata": {},
   "outputs": [
    {
     "data": {
      "image/png": "[encoded data removed]",
      "text/plain": [
       "<Figure size 432x288 with 1 Axes>"
      ]
     },
     "metadata": {
      "needs_background": "light"
     },
     "output_type": "display_data"
    },
    {
     "name": "stdout",
     "output_type": "stream",
     "text": [
      " frog  deer  bird  deer\n"
     ]
    }
   ],
   "source": [
    "import matplotlib.pyplot as plt\n",
    "import numpy as np\n",
    "\n",
    "# functions to show an image\n",
    "def imshow(img):\n",
    "    img = img / 2 + 0.5     # unnormalize\n",
    "    npimg = img.numpy()\n",
    "    plt.imshow(np.transpose(npimg, (1, 2, 0)))\n",
    "    plt.show()\n",
    "    \n",
    "def imagesFromBatches(iterator,quantity):\n",
    "    dataiter = iter(iterator)\n",
    "    images, labels = dataiter.next()    \n",
    "    imshow(torchvision.utils.make_grid(images))\n",
    "    print(' '.join('%5s' % classes[labels[j]] for j in range(quantity)))\n",
    "    return (images,labels)\n",
    "\n",
    "# get some random training images\n",
    "dataiter = iter(trainloader)\n",
    "images, labels = dataiter.next()\n",
    "\n",
    "# show images\n",
    "imshow(torchvision.utils.make_grid(images))\n",
    "# print labels\n",
    "print(' '.join('%5s' % classes[labels[j]] for j in range(4)))"
   ]
  },
  {
   "cell_type": "code",
   "execution_count": 45,
   "metadata": {},
   "outputs": [
    {
     "name": "stdout",
     "output_type": "stream",
     "text": [
      "----------------------------------------------------------------\n",
      "        Layer (type)               Output Shape         Param #\n",
      "================================================================\n",
      "            Conv2d-1            [-1, 6, 24, 24]             156\n",
      "         MaxPool2d-2            [-1, 6, 12, 12]               0\n",
      "            Conv2d-3             [-1, 16, 8, 8]           2,416\n",
      "         MaxPool2d-4             [-1, 16, 4, 4]               0\n",
      "            Linear-5                  [-1, 120]          61,560\n",
      "            Linear-6                   [-1, 84]          10,164\n",
      "            Linear-7                   [-1, 10]             850\n",
      "================================================================\n",
      "Total params: 75,146\n",
      "Trainable params: 75,146\n",
      "Non-trainable params: 0\n",
      "----------------------------------------------------------------\n",
      "Input size (MB): 0.00\n",
      "Forward/backward pass size (MB): 0.04\n",
      "Params size (MB): 0.29\n",
      "Estimated Total Size (MB): 0.33\n",
      "----------------------------------------------------------------\n"
     ]
    }
   ],
   "source": [
    "import torch.nn as nn\n",
    "# Importa funciones de convolución\n",
    "import torch.nn.functional as F\n",
    "\n",
    "from torchsummary import summary\n",
    "\n",
    "# nn.Module: Clase base para todos los módulos de red neuronal. Sus modelos también deben subclasificar esta clase.\n",
    "#### ESTA CREANDO UN OBJETO QUE SERA LA RED NEURONAL\n",
    "class Net(nn.Module):\n",
    "    #### Módulo de red neuronal?? - ¿ESTA CREANDO EL CONSTRUCTOR DEL OBJETO\n",
    "    def __init__(self):\n",
    "        super(Net, self).__init__()\n",
    "        #### ESTAS SON FUNCIONES PRIVADAS DEL OBJETO\n",
    "        \n",
    "        # CONVOLUCION: Transformar la imagen para representar sus características relevantes y eliminar la información irrelevante\n",
    "        # para resolver el problema de clasificación.\n",
    "        \n",
    "        # nn.Conv2d(in_channels, out_channels, kernel_size): Aplica una convolución 2D sobre una señal de entrada\n",
    "        #                                                    compuesta de varios planos de entrada.\n",
    "        #    in_channels: Número de canales en la imagen de entrada.\n",
    "        #    out_channels: Número de canales producidos por la convolución. Número de filtros.\n",
    "        ####    kernel_size: Tamaño del núcleo que está convolucionando. -- TAMAÑO DEL FILTRO EN ESTA CASO MATRIZ 5X5\n",
    "        self.conv1 = nn.Conv2d(1, 6, 5)\n",
    "        \n",
    "        # POOLING: Reducir el tamaño de las imágenes, acelerar los tiempos de cálculo y mejorar la detección de las características\n",
    "        # nn.MaxPool2d(kernel_size, stride=None): Aplica un max pooling 2D sobre una señal de entrada compuesta por varios planos de entrada.\n",
    "        #            kernel_size: El tamaño de la ventana sobre la cual se tomara un máximo. El tamaño del filtro.\n",
    "        #            stride: El paso de la ventana.\n",
    "        self.pool = nn.MaxPool2d(2, 2)\n",
    "        \n",
    "        \n",
    "        self.conv2 = nn.Conv2d(6, 16, 5)\n",
    "        \n",
    "        #Fully-connected layers o MultiLayer Perceptron - Ultimas capas de la CNN o red neuronal convolucional\n",
    "        # Algoritmo Perceptrón (Rosemblatt, 1962) resuelve problema de clasificación binaria.\n",
    "        # nn.Linear(in_features, out_features): Aplica una transformación lineal a los datos entrantes: y = xA^T+b\n",
    "        #         in_features: Tamaño de cada muestra de entrada.: metodos de clasficiacion\n",
    "        #         out_features: Tamaño de cada muestra de salida.\n",
    "        #         \n",
    "        \n",
    "        self.fc1 = nn.Linear(512, 120)\n",
    "        self.fc2 = nn.Linear(120, 84)\n",
    "        self.fc3 = nn.Linear(84, 10)\n",
    "\n",
    "    def forward(self, x):\n",
    "        x = self.pool(F.relu(self.conv1(x)))\n",
    "        x = self.pool(F.relu(self.conv2(x)))\n",
    "        x = x.view(-1, 512)\n",
    "        x = F.relu(self.fc1(x))\n",
    "        x = F.relu(self.fc2(x))\n",
    "        x = self.fc3(x)\n",
    "        return x\n",
    "\n",
    "\n",
    "net = Net()\n",
    "\n",
    "summary(net,(1,28,28))"
   ]
  },
  {
   "cell_type": "code",
   "execution_count": 46,
   "metadata": {},
   "outputs": [],
   "source": [
    "# torch.optim: Es un paquete que implementa varios algoritmos de optimización.\n",
    "import torch.optim as optim\n",
    "\n",
    "criterion = nn.CrossEntropyLoss()#calcula quien tiene el menor \"gradiente\", cual punto alrededor es el minimo\n",
    "\n",
    "# optim.SGD(params, lr=<required parameter>, momentum=0, dampening=0, weight_decay=0, nesterov=False): Implementa stochastic gradient descent \n",
    "optimizer = optim.SGD(net.parameters(), lr=0.001, momentum=0.9)\n",
    "#algoritmo para actualizar los parametros"
   ]
  },
  {
   "cell_type": "code",
   "execution_count": 47,
   "metadata": {},
   "outputs": [
    {
     "ename": "ValueError",
     "evalue": "Expected input batch_size (2) to match target batch_size (4).",
     "output_type": "error",
     "traceback": [
      "\u001b[0;31m---------------------------------------------------------------------------\u001b[0m",
      "\u001b[0;31mValueError\u001b[0m                                Traceback (most recent call last)",
      "\u001b[0;32m<ipython-input-47-d13deca0f4c4>\u001b[0m in \u001b[0;36m<module>\u001b[0;34m\u001b[0m\n\u001b[1;32m     12\u001b[0m         \u001b[0;31m# forward + backward + optimize\u001b[0m\u001b[0;34m\u001b[0m\u001b[0;34m\u001b[0m\u001b[0;34m\u001b[0m\u001b[0m\n\u001b[1;32m     13\u001b[0m         \u001b[0moutputs\u001b[0m \u001b[0;34m=\u001b[0m \u001b[0mnet\u001b[0m\u001b[0;34m(\u001b[0m\u001b[0minputs\u001b[0m\u001b[0;34m)\u001b[0m\u001b[0;34m\u001b[0m\u001b[0;34m\u001b[0m\u001b[0m\n\u001b[0;32m---> 14\u001b[0;31m         \u001b[0mloss\u001b[0m \u001b[0;34m=\u001b[0m \u001b[0mcriterion\u001b[0m\u001b[0;34m(\u001b[0m\u001b[0moutputs\u001b[0m\u001b[0;34m,\u001b[0m \u001b[0mlabels\u001b[0m\u001b[0;34m)\u001b[0m\u001b[0;34m\u001b[0m\u001b[0;34m\u001b[0m\u001b[0m\n\u001b[0m\u001b[1;32m     15\u001b[0m         \u001b[0mloss\u001b[0m\u001b[0;34m.\u001b[0m\u001b[0mbackward\u001b[0m\u001b[0;34m(\u001b[0m\u001b[0;34m)\u001b[0m\u001b[0;34m\u001b[0m\u001b[0;34m\u001b[0m\u001b[0m\n\u001b[1;32m     16\u001b[0m         \u001b[0moptimizer\u001b[0m\u001b[0;34m.\u001b[0m\u001b[0mstep\u001b[0m\u001b[0;34m(\u001b[0m\u001b[0;34m)\u001b[0m\u001b[0;34m\u001b[0m\u001b[0;34m\u001b[0m\u001b[0m\n",
      "\u001b[0;32m~/anaconda3/lib/python3.7/site-packages/torch/nn/modules/module.py\u001b[0m in \u001b[0;36m__call__\u001b[0;34m(self, *input, **kwargs)\u001b[0m\n\u001b[1;32m    487\u001b[0m             \u001b[0mresult\u001b[0m \u001b[0;34m=\u001b[0m \u001b[0mself\u001b[0m\u001b[0;34m.\u001b[0m\u001b[0m_slow_forward\u001b[0m\u001b[0;34m(\u001b[0m\u001b[0;34m*\u001b[0m\u001b[0minput\u001b[0m\u001b[0;34m,\u001b[0m \u001b[0;34m**\u001b[0m\u001b[0mkwargs\u001b[0m\u001b[0;34m)\u001b[0m\u001b[0;34m\u001b[0m\u001b[0;34m\u001b[0m\u001b[0m\n\u001b[1;32m    488\u001b[0m         \u001b[0;32melse\u001b[0m\u001b[0;34m:\u001b[0m\u001b[0;34m\u001b[0m\u001b[0;34m\u001b[0m\u001b[0m\n\u001b[0;32m--> 489\u001b[0;31m             \u001b[0mresult\u001b[0m \u001b[0;34m=\u001b[0m \u001b[0mself\u001b[0m\u001b[0;34m.\u001b[0m\u001b[0mforward\u001b[0m\u001b[0;34m(\u001b[0m\u001b[0;34m*\u001b[0m\u001b[0minput\u001b[0m\u001b[0;34m,\u001b[0m \u001b[0;34m**\u001b[0m\u001b[0mkwargs\u001b[0m\u001b[0;34m)\u001b[0m\u001b[0;34m\u001b[0m\u001b[0;34m\u001b[0m\u001b[0m\n\u001b[0m\u001b[1;32m    490\u001b[0m         \u001b[0;32mfor\u001b[0m \u001b[0mhook\u001b[0m \u001b[0;32min\u001b[0m \u001b[0mself\u001b[0m\u001b[0;34m.\u001b[0m\u001b[0m_forward_hooks\u001b[0m\u001b[0;34m.\u001b[0m\u001b[0mvalues\u001b[0m\u001b[0;34m(\u001b[0m\u001b[0;34m)\u001b[0m\u001b[0;34m:\u001b[0m\u001b[0;34m\u001b[0m\u001b[0;34m\u001b[0m\u001b[0m\n\u001b[1;32m    491\u001b[0m             \u001b[0mhook_result\u001b[0m \u001b[0;34m=\u001b[0m \u001b[0mhook\u001b[0m\u001b[0;34m(\u001b[0m\u001b[0mself\u001b[0m\u001b[0;34m,\u001b[0m \u001b[0minput\u001b[0m\u001b[0;34m,\u001b[0m \u001b[0mresult\u001b[0m\u001b[0;34m)\u001b[0m\u001b[0;34m\u001b[0m\u001b[0;34m\u001b[0m\u001b[0m\n",
      "\u001b[0;32m~/anaconda3/lib/python3.7/site-packages/torch/nn/modules/loss.py\u001b[0m in \u001b[0;36mforward\u001b[0;34m(self, input, target)\u001b[0m\n\u001b[1;32m    902\u001b[0m     \u001b[0;32mdef\u001b[0m \u001b[0mforward\u001b[0m\u001b[0;34m(\u001b[0m\u001b[0mself\u001b[0m\u001b[0;34m,\u001b[0m \u001b[0minput\u001b[0m\u001b[0;34m,\u001b[0m \u001b[0mtarget\u001b[0m\u001b[0;34m)\u001b[0m\u001b[0;34m:\u001b[0m\u001b[0;34m\u001b[0m\u001b[0;34m\u001b[0m\u001b[0m\n\u001b[1;32m    903\u001b[0m         return F.cross_entropy(input, target, weight=self.weight,\n\u001b[0;32m--> 904\u001b[0;31m                                ignore_index=self.ignore_index, reduction=self.reduction)\n\u001b[0m\u001b[1;32m    905\u001b[0m \u001b[0;34m\u001b[0m\u001b[0m\n\u001b[1;32m    906\u001b[0m \u001b[0;34m\u001b[0m\u001b[0m\n",
      "\u001b[0;32m~/anaconda3/lib/python3.7/site-packages/torch/nn/functional.py\u001b[0m in \u001b[0;36mcross_entropy\u001b[0;34m(input, target, weight, size_average, ignore_index, reduce, reduction)\u001b[0m\n\u001b[1;32m   1968\u001b[0m     \u001b[0;32mif\u001b[0m \u001b[0msize_average\u001b[0m \u001b[0;32mis\u001b[0m \u001b[0;32mnot\u001b[0m \u001b[0;32mNone\u001b[0m \u001b[0;32mor\u001b[0m \u001b[0mreduce\u001b[0m \u001b[0;32mis\u001b[0m \u001b[0;32mnot\u001b[0m \u001b[0;32mNone\u001b[0m\u001b[0;34m:\u001b[0m\u001b[0;34m\u001b[0m\u001b[0;34m\u001b[0m\u001b[0m\n\u001b[1;32m   1969\u001b[0m         \u001b[0mreduction\u001b[0m \u001b[0;34m=\u001b[0m \u001b[0m_Reduction\u001b[0m\u001b[0;34m.\u001b[0m\u001b[0mlegacy_get_string\u001b[0m\u001b[0;34m(\u001b[0m\u001b[0msize_average\u001b[0m\u001b[0;34m,\u001b[0m \u001b[0mreduce\u001b[0m\u001b[0;34m)\u001b[0m\u001b[0;34m\u001b[0m\u001b[0;34m\u001b[0m\u001b[0m\n\u001b[0;32m-> 1970\u001b[0;31m     \u001b[0;32mreturn\u001b[0m \u001b[0mnll_loss\u001b[0m\u001b[0;34m(\u001b[0m\u001b[0mlog_softmax\u001b[0m\u001b[0;34m(\u001b[0m\u001b[0minput\u001b[0m\u001b[0;34m,\u001b[0m \u001b[0;36m1\u001b[0m\u001b[0;34m)\u001b[0m\u001b[0;34m,\u001b[0m \u001b[0mtarget\u001b[0m\u001b[0;34m,\u001b[0m \u001b[0mweight\u001b[0m\u001b[0;34m,\u001b[0m \u001b[0;32mNone\u001b[0m\u001b[0;34m,\u001b[0m \u001b[0mignore_index\u001b[0m\u001b[0;34m,\u001b[0m \u001b[0;32mNone\u001b[0m\u001b[0;34m,\u001b[0m \u001b[0mreduction\u001b[0m\u001b[0;34m)\u001b[0m\u001b[0;34m\u001b[0m\u001b[0;34m\u001b[0m\u001b[0m\n\u001b[0m\u001b[1;32m   1971\u001b[0m \u001b[0;34m\u001b[0m\u001b[0m\n\u001b[1;32m   1972\u001b[0m \u001b[0;34m\u001b[0m\u001b[0m\n",
      "\u001b[0;32m~/anaconda3/lib/python3.7/site-packages/torch/nn/functional.py\u001b[0m in \u001b[0;36mnll_loss\u001b[0;34m(input, target, weight, size_average, ignore_index, reduce, reduction)\u001b[0m\n\u001b[1;32m   1786\u001b[0m     \u001b[0;32mif\u001b[0m \u001b[0minput\u001b[0m\u001b[0;34m.\u001b[0m\u001b[0msize\u001b[0m\u001b[0;34m(\u001b[0m\u001b[0;36m0\u001b[0m\u001b[0;34m)\u001b[0m \u001b[0;34m!=\u001b[0m \u001b[0mtarget\u001b[0m\u001b[0;34m.\u001b[0m\u001b[0msize\u001b[0m\u001b[0;34m(\u001b[0m\u001b[0;36m0\u001b[0m\u001b[0;34m)\u001b[0m\u001b[0;34m:\u001b[0m\u001b[0;34m\u001b[0m\u001b[0;34m\u001b[0m\u001b[0m\n\u001b[1;32m   1787\u001b[0m         raise ValueError('Expected input batch_size ({}) to match target batch_size ({}).'\n\u001b[0;32m-> 1788\u001b[0;31m                          .format(input.size(0), target.size(0)))\n\u001b[0m\u001b[1;32m   1789\u001b[0m     \u001b[0;32mif\u001b[0m \u001b[0mdim\u001b[0m \u001b[0;34m==\u001b[0m \u001b[0;36m2\u001b[0m\u001b[0;34m:\u001b[0m\u001b[0;34m\u001b[0m\u001b[0;34m\u001b[0m\u001b[0m\n\u001b[1;32m   1790\u001b[0m         \u001b[0mret\u001b[0m \u001b[0;34m=\u001b[0m \u001b[0mtorch\u001b[0m\u001b[0;34m.\u001b[0m\u001b[0m_C\u001b[0m\u001b[0;34m.\u001b[0m\u001b[0m_nn\u001b[0m\u001b[0;34m.\u001b[0m\u001b[0mnll_loss\u001b[0m\u001b[0;34m(\u001b[0m\u001b[0minput\u001b[0m\u001b[0;34m,\u001b[0m \u001b[0mtarget\u001b[0m\u001b[0;34m,\u001b[0m \u001b[0mweight\u001b[0m\u001b[0;34m,\u001b[0m \u001b[0m_Reduction\u001b[0m\u001b[0;34m.\u001b[0m\u001b[0mget_enum\u001b[0m\u001b[0;34m(\u001b[0m\u001b[0mreduction\u001b[0m\u001b[0;34m)\u001b[0m\u001b[0;34m,\u001b[0m \u001b[0mignore_index\u001b[0m\u001b[0;34m)\u001b[0m\u001b[0;34m\u001b[0m\u001b[0;34m\u001b[0m\u001b[0m\n",
      "\u001b[0;31mValueError\u001b[0m: Expected input batch_size (2) to match target batch_size (4)."
     ]
    }
   ],
   "source": [
    "for epoch in range(4):  # loop over the dataset multiple times\n",
    "#itera y trata de encontrar las lmejores solucions para este sistema\n",
    "#hacer el proceso varias veces, empezando desde un punto distinto\n",
    "    running_loss = 0.0\n",
    "    for i, data in enumerate(trainloader, 0):\n",
    "        # get the inputs\n",
    "        inputs, labels = data\n",
    "\n",
    "        # zero the parameter gradients\n",
    "        optimizer.zero_grad()\n",
    "\n",
    "        # forward + backward + optimize\n",
    "        outputs = net(inputs)\n",
    "        loss = criterion(outputs, labels)\n",
    "        loss.backward()\n",
    "        optimizer.step()\n",
    "\n",
    "        # print statistics\n",
    "        running_loss += loss.item()\n",
    "        if i % 2000 == 1999:    # print every 2000 mini-batches\n",
    "            print('[%d, %5d] loss: %.3f' %\n",
    "                  (epoch + 1, i + 1, running_loss / 2000))\n",
    "            running_loss = 0.0\n",
    "\n",
    "print('Finished Training')"
   ]
  },
  {
   "cell_type": "code",
   "execution_count": null,
   "metadata": {},
   "outputs": [],
   "source": [
    "correct = 0\n",
    "total = 0\n",
    "with torch.no_grad():\n",
    "    for data in testloader:\n",
    "        images, labels = data\n",
    "        outputs = net(images)\n",
    "        _, predicted = torch.max(outputs.data, 1)\n",
    "        total += labels.size(0)\n",
    "        correct += (predicted == labels).sum().item()\n",
    "\n",
    "print('Accuracy of the network on the 10000 test images: %d %%' % (\n",
    "    100 * correct / total))"
   ]
  },
  {
   "cell_type": "code",
   "execution_count": null,
   "metadata": {},
   "outputs": [],
   "source": [
    "class_correct = list(0. for i in range(10))\n",
    "class_total = list(0. for i in range(10))\n",
    "with torch.no_grad():\n",
    "    for data in testloader:\n",
    "        images, labels = data\n",
    "        outputs = net(images)\n",
    "        _, predicted = torch.max(outputs, 1)\n",
    "        c = (predicted == labels).squeeze()\n",
    "        for i in range(4):\n",
    "            label = labels[i]\n",
    "            class_correct[label] += c[i].item()\n",
    "            class_total[label] += 1\n",
    "\n",
    "\n",
    "for i in range(10):\n",
    "    print('Accuracy of %5s : %2d %%' % (\n",
    "        classes[i], 100 * class_correct[i] / class_total[i]))"
   ]
  }
 ],
 "metadata": {
  "kernelspec": {
   "display_name": "Python 3",
   "language": "python",
   "name": "python3"
  },
  "language_info": {
   "codemirror_mode": {
    "name": "ipython",
    "version": 3
   },
   "file_extension": ".py",
   "mimetype": "text/x-python",
   "name": "python",
   "nbconvert_exporter": "python",
   "pygments_lexer": "ipython3",
   "version": "3.7.1"
  }
 },
 "nbformat": 4,
 "nbformat_minor": 2
}
