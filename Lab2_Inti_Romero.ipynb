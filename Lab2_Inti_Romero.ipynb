{
 "cells": [
  {
   "cell_type": "markdown",
   "metadata": {},
   "source": [
    "# TP2- Introducción al SGBD MongoDB y Conexión a la API Rest de Twitter"
   ]
  },
  {
   "cell_type": "markdown",
   "metadata": {},
   "source": [
    "En este trabajo práctico queremos descubrir las características del SGBD no relacional MongoDB. En este sentido, vamos a desarrollar un script que se conecta a la API Rest de Twitter para: 1) descargar datos al formato JSON, 2) almacenarlos en una base Mongo y 3) realizar algunas consultas sobre los datos."
   ]
  },
  {
   "cell_type": "markdown",
   "metadata": {},
   "source": [
    "## 1. Conectarse a la API Rest de Twitter"
   ]
  },
  {
   "cell_type": "markdown",
   "metadata": {},
   "source": [
    "- ¿Cómo crear una aplicación utilizando los datos de Twitter?: https://developer.twitter.com/en/docs/basics/getting-started\n",
    "- Crear una aplicación utilizando los datos de Twitter: https://apps.twitter.com/\n",
    "- ¿Qué deberían saber todos los desarrolladores antes de jugar con la API de twitter?: https://developer.twitter.com/en/docs/basics/things-every-developer-should-know"
   ]
  },
  {
   "cell_type": "code",
   "execution_count": null,
   "metadata": {},
   "outputs": [],
   "source": [
    "from twython import Twython\n",
    "twitter = Twython(\"zVNiP5IvtE6BMPeVCba5tj2TP\", \"tCopZ8yVcmsvyarekJjXIVRF9zThtDzaTsAMaTYmuKU5fVeNk0\",\n",
    "                  \"978816906852491264-5PouXdf2oewIes8wvGVvIR3kx4vNNqg\", \"H54dj9EuHTyxz2lxutIowvIQPkCI8v0oCCR5iP8VxSqj6\")"
   ]
  },
  {
   "cell_type": "markdown",
   "metadata": {},
   "source": [
    "## 2. Consultar la API de Twitter"
   ]
  },
  {
   "cell_type": "markdown",
   "metadata": {},
   "source": [
    "- Utilizando una librería Python que permite enviar consultas HTTP a la API de Twitter, conectarse a un 'endpoint' de la API para leer datos. Ver la lista de los endpoints: https://developer.twitter.com/en/docs/tweets/post-and-engage/overview"
   ]
  },
  {
   "cell_type": "code",
   "execution_count": null,
   "metadata": {
    "collapsed": true
   },
   "outputs": [],
   "source": [
    "twitter.update_status(status='See how easy using Twython is!')"
   ]
  },
  {
   "cell_type": "code",
   "execution_count": null,
   "metadata": {},
   "outputs": [],
   "source": [
    "twitter.search(q='valdiviacl')"
   ]
  },
  {
   "cell_type": "code",
   "execution_count": 4,
   "metadata": {},
   "outputs": [],
   "source": [
    "json = twitter.search(q='valdiviacl', count=40)"
   ]
  },
  {
   "cell_type": "code",
   "execution_count": null,
   "metadata": {},
   "outputs": [],
   "source": [
    "tweet = json[\"statuses\"][4][\"text\"]\n",
    "created_at =json[\"statuses\"][4][\"user\"][\"created_at\"]\n",
    "username = json[\"statuses\"][4][\"user\"][\"name\"]\n",
    "description = json[\"statuses\"][4][\"user\"][\"description\"]\n",
    "location = json[\"statuses\"][4][\"user\"][\"location\"]\n",
    "todo = json[\"statuses\"][4][\"user\"]\n",
    "print(\"Tweet: \")\n",
    "print(tweet)\n",
    "print(\"\\n\")\n",
    "print(\"Created at: \")\n",
    "print(created_at)\n",
    "print(\"\\n\")\n",
    "print(\"User: \")\n",
    "print(username)\n",
    "print(\"\\n\")\n",
    "print(\"Description: \")\n",
    "print(description)\n",
    "print(\"\\n\")\n",
    "print(\"Location: \")\n",
    "print(location)\n",
    "print(\"\\n\")\n",
    "print(\"Todo: \")\n",
    "print(todo)"
   ]
  },
  {
   "cell_type": "markdown",
   "metadata": {},
   "source": [
    "## 3. Conectarse al SGBD Mongo"
   ]
  },
  {
   "cell_type": "markdown",
   "metadata": {},
   "source": [
    "- Conectarse a Mongo desde Python utilizando la librería adecuada"
   ]
  },
  {
   "cell_type": "code",
   "execution_count": 7,
   "metadata": {},
   "outputs": [],
   "source": [
    "from pymongo import MongoClient"
   ]
  },
  {
   "cell_type": "code",
   "execution_count": 8,
   "metadata": {},
   "outputs": [],
   "source": [
    "client = MongoClient()\n",
    "db = client.lab"
   ]
  },
  {
   "cell_type": "markdown",
   "metadata": {},
   "source": [
    "## 4. Escribir datos de Twitter en una Base de Datos Mongo"
   ]
  },
  {
   "cell_type": "code",
   "execution_count": 55,
   "metadata": {},
   "outputs": [],
   "source": [
    "counter =0\n",
    "for w in json[\"statuses\"]:\n",
    "    tweet = json[\"statuses\"][counter][\"text\"]\n",
    "    created_at =json[\"statuses\"][counter][\"user\"][\"created_at\"]\n",
    "    username = json[\"statuses\"][counter][\"user\"][\"name\"]\n",
    "    description = json[\"statuses\"][counter][\"user\"][\"description\"]\n",
    "    location = json[\"statuses\"][counter][\"user\"][\"location\"]\n",
    "    result = db.tweets.insert_one(\n",
    "    {\n",
    "            \"tweet\": tweet,\n",
    "            \"createdat\": created_at,\n",
    "            \"username\": username,\n",
    "            \"description\": description,\n",
    "            \"location\": location\n",
    "    \n",
    "    }\n",
    "    )\n",
    "    counter = counter +1"
   ]
  },
  {
   "cell_type": "markdown",
   "metadata": {},
   "source": [
    "Mostrar los documentos de su colección mostrando solamente el campo \"location\". "
   ]
  },
  {
   "cell_type": "code",
   "execution_count": null,
   "metadata": {},
   "outputs": [],
   "source": [
    "cursor = db.tweets.find()\n",
    "for document in cursor:\n",
    "    print(document[\"location\"])"
   ]
  },
  {
   "cell_type": "markdown",
   "metadata": {},
   "source": [
    "Mostrar los tweets que contienen la palabra \"UACh\".--PROFE NO ME CORRE EN EL NOTEBOOK, PERO SI FUNCIONA EN EL TERMINAL DE MONGODB CLIENTE"
   ]
  },
  {
   "cell_type": "code",
   "execution_count": 10,
   "metadata": {},
   "outputs": [],
   "source": [
    "db.tweets.find({tweet:{\"$regex\": \".*UACh\"}}, {\"tweet\":1,\"_id\":0})"
   ]
  },
  {
   "cell_type": "markdown",
   "metadata": {},
   "source": [
    "Contar el número de tweets por username. - --PROFE NO ME CORRE EN EL NOTEBOOK, PERO SI FUNCIONA EN EL TERMINAL DE MONGODB CLIENTE"
   ]
  },
  {
   "cell_type": "code",
   "execution_count": 74,
   "metadata": {},
   "outputs": [],
   "source": [
    "db.tweets.find({username: \"Pedro Guerra\"}).count()"
   ]
  }
 ],
 "metadata": {
  "kernelspec": {
   "display_name": "Python 3",
   "language": "python",
   "name": "python3"
  },
  "language_info": {
   "codemirror_mode": {
    "name": "ipython",
    "version": 3
   },
   "file_extension": ".py",
   "mimetype": "text/x-python",
   "name": "python",
   "nbconvert_exporter": "python",
   "pygments_lexer": "ipython3",
   "version": "3.6.4"
  }
 },
 "nbformat": 4,
 "nbformat_minor": 2
}
