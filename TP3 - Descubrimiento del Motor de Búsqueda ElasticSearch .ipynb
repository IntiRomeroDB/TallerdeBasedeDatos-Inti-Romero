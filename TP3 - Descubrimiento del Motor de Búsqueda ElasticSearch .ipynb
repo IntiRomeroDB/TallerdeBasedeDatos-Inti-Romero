{
 "cells": [
  {
   "cell_type": "markdown",
   "metadata": {},
   "source": [
    "# TP3- Descubrimiento del Motor de Búsqueda ElasticSearch"
   ]
  },
  {
   "cell_type": "markdown",
   "metadata": {},
   "source": [
    "## 1) Preguntas:\n",
    "\n",
    "1.1 ¿ElasticSearch es un SGBD de nueva generación? Qué es un motor de búsqueda?\n",
    "\n",
    "1.2 ¿Cuáles son sus principales caracteristicas? ¿Qué modelo lógico de datos utiliza?\n",
    "\n",
    "1.3 ¿Cuáles son los puntos similares y las diferencias con el SGBD Mongo?\n",
    "\n",
    "1.4 ¿Cuál es la fecha de su primera versión? ¿Cuál es la frecuencia de aparación de nuevas versiones?\n",
    "\n",
    "1.5 ¿Cuál es su licencia? Cuáles son las principales caracteristicas de esta licencia?\n",
    "\n",
    "1.6 ¿Qué empresas o productos utilizan ElasticSearch? Cuáles son los casos de uso habituales?\n",
    "\n",
    "1.7 ¿Cuáles son los otros productos desarrollados en la organización Elastic?\n",
    "\n",
    "<b>Enlaces utiles</b>:\n",
    "\n",
    "https://www.elastic.co/products/elasticsearch\n",
    "\n",
    "https://en.wikipedia.org/wiki/Elasticsearch\n",
    "\n",
    "https://db-engines.com/en/ranking"
   ]
  },
  {
   "cell_type": "markdown",
   "metadata": {},
   "source": [
    "RESPUESTAS"
   ]
  },
  {
   "cell_type": "markdown",
   "metadata": {},
   "source": [
    "1.1 Elasticsearch es un servidor de búsqueda basado en Lucene. Provee un motor de búsqueda de texto completo, \n",
    "distribuido y con capacidad de multi-tenencia con una interfaz web RESTful y con documentos JSON. \n",
    "Elasticsearch está desarrollado en Java y está publicado como código abierto bajo\n",
    "las condiciones de la licencia Apache."
   ]
  },
  {
   "cell_type": "markdown",
   "metadata": {},
   "source": [
    "1.2 Al estar desarrollado en Java, es compatible en todas las plataformas donde Java lo sea.\n",
    "Tiene una gran velocidad de respuesta.\n",
    "Es distribuido, lo que lo hace fácilmente escalable y adaptable a las distintas situaciones.\n",
    "Simple realiza respaldos de los datos almacenados.\n",
    "Utiliza objetos JSON como respuesta, por lo que es fácil de invocar desde varios lenguajes de programación."
   ]
  },
  {
   "cell_type": "markdown",
   "metadata": {},
   "source": [
    "1.3 Similar:\n",
    "    - BD nueva generación, sistema distribuido, datos estructurados(datos con meta data que explica que es ese datos-nombre= juan, nombre es meta data).\n",
    "    Diferencia:\n",
    "    - Mejor forma de acceder a los datos, datos no estructurados(tiene los datos sin la meta data que explique que son esos datos)."
   ]
  },
  {
   "cell_type": "markdown",
   "metadata": {},
   "source": [
    "1.4 2010-02-08, cada par de meses."
   ]
  },
  {
   "cell_type": "markdown",
   "metadata": {},
   "source": [
    "1.5 Open Source, \n",
    "Logotipo del código abierto.\n",
    "El código abierto es un modelo de desarrollo de software basado en la colaboración abierta1.\n",
    "Se enfoca más en los beneficios prácticos (acceso al código fuente) que en cuestiones éticas \n",
    "o de libertad que tanto se destacan en el software libre. Para muchos el término «libre» hace \n",
    "referencia al hecho de adquirir un software de manera gratuita, pero más que eso, la libertad \n",
    "se refiere al poder modificar la fuente del programa sin restricciones de licencia, ya que\n",
    "muchas empresas de software encierran su código, ocultándolo, y restringiéndose los derechos a \n",
    "sí misma."
   ]
  },
  {
   "cell_type": "markdown",
   "metadata": {},
   "source": [
    "1.6  Wikipedia is using Elasticsearch, and so is Ebay, Yelp and Netflix.\n",
    "This tool set is often used for log search and analysis, thus moving beyond the traditional search engine market,\n",
    "while still using Elasticsearch as its key component."
   ]
  },
  {
   "cell_type": "markdown",
   "metadata": {},
   "source": [
    "1.7 Kibana, Logstash, Beats, X-Pack, Cloud-ECE"
   ]
  },
  {
   "cell_type": "markdown",
   "metadata": {},
   "source": [
    "## 2) Instalar ElasticSearch\n",
    "\n",
    "2.1 Descargar e instalar ElasticSearch 6.2 (https://www.elastic.co/downloads/elasticsearch)\n",
    "\n",
    "2.2 Ejecutar ElasticSearch (bin/elasticsearch) con la configuración por defecto\n",
    "\n",
    "2.3 En un terminal, ejecutar el comando siguiente:\n",
    "\n",
    "curl -X GET \"http://localhost:9200/_cat/health?v\"\n",
    "\n",
    "De qué sirve el software CURL?\n",
    "Cuantos nodos y shards tiene su instalación de ElasticSearch? Cómo se llama su cluster?\n",
    "\n",
    "<b>Enlaces utiles:</b>\n",
    "\n",
    "https://www.elastic.co/guide/en/elasticsearch/reference/current/_cluster_health.html"
   ]
  },
  {
   "cell_type": "code",
   "execution_count": null,
   "metadata": {},
   "outputs": [],
   "source": [
    "2.3 epoch      timestamp cluster                  status node.total node.data shards pri relo init unassign pending_tasks max_task_wait_time active_shards_percent\n",
    "1523915224 18:47:04  elasticsearch_intiromero green           1         1      0   0    0    0        0             0                  -                100.0%"
   ]
  },
  {
   "cell_type": "markdown",
   "metadata": {},
   "source": [
    "Curl: Software para enviar consulta http o ftp desde un terminal."
   ]
  },
  {
   "cell_type": "markdown",
   "metadata": {},
   "source": [
    "Cuantos nodos tiene su instalación?\n",
    "1"
   ]
  },
  {
   "cell_type": "markdown",
   "metadata": {},
   "source": [
    "Cuantos shards tiene su instalación?\n",
    "0"
   ]
  },
  {
   "cell_type": "markdown",
   "metadata": {},
   "source": [
    "Cómo se llama su cluster?\n",
    "elasticsearch_intiromero"
   ]
  },
  {
   "cell_type": "markdown",
   "metadata": {},
   "source": [
    "UTILIZAREMOS CURL PARA CONECTARNOS CON ELASTIC, QUE NO ES UN CLIENTE, SINO SIRVE PARA ACCEDER A HTTP Y FTP."
   ]
  },
  {
   "cell_type": "markdown",
   "metadata": {},
   "source": [
    "## 3) Operaciones CRUD básicas"
   ]
  },
  {
   "cell_type": "markdown",
   "metadata": {},
   "source": [
    "3.1 Listar los indices disponibles en el cluster\n",
    "\n",
    "3.2 Seguir el \"Getting Started\" de la documentación de ElasticSearch a partir de la sección siguiente: https://www.elastic.co/guide/en/elasticsearch/reference/current/_list_all_indices.html"
   ]
  },
  {
   "cell_type": "raw",
   "metadata": {},
   "source": [
    "curl -X GET \"http://localhost:9200/_cat/indices?v\""
   ]
  },
  {
   "cell_type": "raw",
   "metadata": {},
   "source": [
    "Intis-MacBook-Pro:~ intiromero$ curl -X GET \"http://localhost:9200/_cat/indices?v\"\n",
    "health status index uuid pri rep docs.count docs.deleted store.size pri.store.size"
   ]
  },
  {
   "cell_type": "markdown",
   "metadata": {},
   "source": [
    "Get a list of nodes in our cluster"
   ]
  },
  {
   "cell_type": "raw",
   "metadata": {},
   "source": [
    "curl -X GET \"http://localhost:9200/_cat/nodes?v\""
   ]
  },
  {
   "cell_type": "raw",
   "metadata": {},
   "source": [
    "Intis-MacBook-Pro:~ intiromero$ curl -X GET \"http://localhost:9200/_cat/nodes?v\"\n",
    "ip        heap.percent ram.percent cpu load_1m load_5m load_15m node.role master name\n",
    "127.0.0.1           26          97   4    1.65                  mdi       *      XldRx1q"
   ]
  },
  {
   "cell_type": "markdown",
   "metadata": {},
   "source": [
    "CREATE AN INDEX"
   ]
  },
  {
   "cell_type": "raw",
   "metadata": {},
   "source": [
    "curl -X PUT \"http://localhost:9200/customer?pretty\""
   ]
  },
  {
   "cell_type": "raw",
   "metadata": {},
   "source": [
    "{\n",
    "  \"acknowledged\" : true,\n",
    "  \"shards_acknowledged\" : true,\n",
    "  \"index\" : \"customer\"\n",
    "}"
   ]
  },
  {
   "cell_type": "raw",
   "metadata": {},
   "source": [
    "curl -X GET \"http://localhost:9200/_cat/indices?v\""
   ]
  },
  {
   "cell_type": "raw",
   "metadata": {},
   "source": [
    "health status index    uuid                   pri rep docs.count docs.deleted store.size pri.store.size\n",
    "yellow open   customer 6CwWotSeS8eeV6jCUoapSg   5   1          0            0      1.1kb          1.1kb"
   ]
  },
  {
   "cell_type": "markdown",
   "metadata": {},
   "source": [
    "INDEX AND QUERY A DOCUMENT"
   ]
  },
  {
   "cell_type": "raw",
   "metadata": {},
   "source": [
    "curl -X PUT \"http://localhost:9200/customer/_doc/1?pretty\" -H 'Content-Type: application/json' -d'\n",
    "> {\n",
    ">   \"name\": \"John Doe\"\n",
    "> }\n",
    "> '"
   ]
  },
  {
   "cell_type": "raw",
   "metadata": {},
   "source": [
    "{\n",
    "  \"_index\" : \"customer\",\n",
    "  \"_type\" : \"_doc\",\n",
    "  \"_id\" : \"1\",\n",
    "  \"_version\" : 1,\n",
    "  \"result\" : \"created\",\n",
    "  \"_shards\" : {\n",
    "    \"total\" : 2,\n",
    "    \"successful\" : 1,\n",
    "    \"failed\" : 0\n",
    "  },\n",
    "  \"_seq_no\" : 0,\n",
    "  \"_primary_term\" : 1\n",
    "}"
   ]
  },
  {
   "cell_type": "markdown",
   "metadata": {},
   "source": [
    "Retrieve the document that we just indexed"
   ]
  },
  {
   "cell_type": "raw",
   "metadata": {},
   "source": [
    "curl -X GET \"http://localhost:9200/customer/_doc/1?pretty\""
   ]
  },
  {
   "cell_type": "raw",
   "metadata": {},
   "source": [
    "{\n",
    "  \"_index\" : \"customer\",\n",
    "  \"_type\" : \"_doc\",\n",
    "  \"_id\" : \"1\",\n",
    "  \"_version\" : 1,\n",
    "  \"found\" : true,\n",
    "  \"_source\" : {\n",
    "    \"name\" : \"John Doe\"\n",
    "  }\n",
    "}"
   ]
  },
  {
   "cell_type": "markdown",
   "metadata": {},
   "source": [
    "## 4) Ejemplo de Aplicación en Python utilizando ElasticSearch\n",
    "Para ayudar la comunidad científica de la UACh, proponemos desarrollar un motor de búsqueda de los artículos científicos escritos por la comunidad UACh.\n",
    "\n",
    "4.1 Buscar en Internet (por ejemplo en el sitio \"Web Of Science\": http://apps.webofknowledge.com) algunos articulos científicos escritos por académicos de la UACh y copiar cada resumen de artículo en un archivo texto. "
   ]
  },
  {
   "cell_type": "raw",
   "metadata": {},
   "source": [
    "curl -X PUT \"http://localhost:9200/articule?pretty\""
   ]
  },
  {
   "cell_type": "raw",
   "metadata": {},
   "source": [
    "curl -X PUT \"http://localhost:9200/customer/_doc/1?pretty\" -H 'Content-Type: application/json' -d'\n",
    "> {\n",
    ">   \"name\": \"John Doe\"\n",
    "> }\n",
    "> '"
   ]
  },
  {
   "cell_type": "markdown",
   "metadata": {},
   "source": [
    "4.2 Desde Python, conectarse a su cluster ElasticSearch y crear un indice \"articulo-uach\""
   ]
  },
  {
   "cell_type": "markdown",
   "metadata": {},
   "source": [
    "4.3 Indexar los archivos textos recopilados con algunos metadatos adicionales"
   ]
  },
  {
   "cell_type": "markdown",
   "metadata": {},
   "source": [
    "4.4 Consultas"
   ]
  },
  {
   "cell_type": "code",
   "execution_count": null,
   "metadata": {
    "collapsed": true
   },
   "outputs": [],
   "source": []
  }
 ],
 "metadata": {
  "kernelspec": {
   "display_name": "Python 3",
   "language": "python",
   "name": "python3"
  },
  "language_info": {
   "codemirror_mode": {
    "name": "ipython",
    "version": 3
   },
   "file_extension": ".py",
   "mimetype": "text/x-python",
   "name": "python",
   "nbconvert_exporter": "python",
   "pygments_lexer": "ipython3",
   "version": "3.6.4"
  }
 },
 "nbformat": 4,
 "nbformat_minor": 2
}
